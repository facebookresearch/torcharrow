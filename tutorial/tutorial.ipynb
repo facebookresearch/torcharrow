{
  "metadata": {
    "language_info": {
      "codemirror_mode": {
        "name": "ipython",
        "version": 3
      },
      "file_extension": ".py",
      "mimetype": "text/x-python",
      "name": "python",
      "nbconvert_exporter": "python",
      "pygments_lexer": "ipython3",
      "version": "3.8.5"
    },
    "orig_nbformat": 2,
    "kernelspec": {
      "name": "bento_kernel_pytorch",
      "display_name": "pytorch",
      "language": "python",
      "metadata": {
        "kernel_name": "bento_kernel_pytorch",
        "nightly_builds": true,
        "fbpkg_supported": true,
        "is_prebuilt": true
      }
    },
    "metadata": {
      "interpreter": {
        "hash": "7812ea015bdcee6f23a998adcdd2ef97c151c0c241b7b7070987d9313e41299d"
      }
    },
    "last_server_session_id": "2b839861-3e9c-4dc2-b535-72671f7645f3",
    "last_kernel_id": "119a376c-d69f-47dd-9679-89b4e1651884",
    "last_base_url": "https://devvm1776.ftw0.facebook.com:8090/",
    "last_msg_id": "25ba9dfa-e3e59522f839bd7b5346dde9_285"
  },
  "nbformat": 4,
  "nbformat_minor": 2,
  "cells": [
    {
      "cell_type": "markdown",
      "metadata": {
        "originalKey": "3a82cbb3-b213-44c0-bacf-0ce05063994a",
        "showInput": true,
        "code_folding": [],
        "hidden_ranges": []
      },
      "source": [
        "# TorchArrow in 10 minutes\n",
        "\n",
        "TorchArrow is a torch.Tensor-like Python DataFrame library for data preprocessing in deep learning. It supports multiple execution runtimes and Arrow as a common memory format.\n",
        "\n",
        "(Remark. In case the following looks familiar, it is with gratitude that portions of this tutorial were borrowed and adapted from the 10 Minutes to Pandas (and CuDF) tutorial.)\n",
        "\n",
        ""
      ]
    },
    {
      "cell_type": "markdown",
      "metadata": {
        "originalKey": "47503d4c-cd45-4d4d-a8e5-a1824e0d7977"
      },
      "source": [
        "The TorchArrow library consists of 3 parts: \n",
        "\n",
        "  * *DTypes* define *Schema*, *Fields*, primitive and composite *Types*. \n",
        "  * *Columns* defines sequences of strongly typed data with vectorized operations.\n",
        "  * *Dataframes*  are sequences of named and typed columns of same length with relational operations.  \n",
        "\n",
        "Let's get started..."
      ]
    },
    {
      "cell_type": "code",
      "metadata": {
        "originalKey": "94c1c035-5201-461f-8f16-c3748496535f",
        "code_folding": [],
        "hidden_ranges": [],
        "collapsed": false,
        "requestMsgId": "e476c5ee-9485-4767-b30e-acefc169acd7",
        "executionStartTime": 1634146943448,
        "executionStopTime": 1634146944781
      },
      "source": [
        "import torcharrow as ta\n",
        "import torcharrow.dtypes as dt\n",
        ""
      ],
      "execution_count": 1,
      "outputs": []
    },
    {
      "cell_type": "markdown",
      "metadata": {
        "originalKey": "50a5e636-c4db-46d7-930b-b0a9aa9728fc"
      },
      "source": [
        "## Constructing data: Columns\n",
        "\n",
        "### From Pandas to TorchArrow\n",
        "To start let's create a Panda series and a TorchArrow column and compare them:"
      ]
    },
    {
      "cell_type": "code",
      "metadata": {
        "originalKey": "2be4585e-dd9b-4b6f-ad1b-41ec23e55a4e",
        "collapsed": false,
        "requestMsgId": "a9350c1e-66fd-400a-8ba0-a29faec76f8e",
        "executionStartTime": 1634146944817,
        "executionStopTime": 1634146944978,
        "code_folding": [],
        "hidden_ranges": []
      },
      "source": [
        "import pandas as pd\n",
        "\n",
        "\n",
        "pd.Series([1, 2, None, 4])\n",
        ""
      ],
      "execution_count": 2,
      "outputs": [
        {
          "output_type": "execute_result",
          "data": {
            "text/plain": "0    1.0\n1    2.0\n2    NaN\n3    4.0\ndtype: float64",
            "application/vnd.dataresource+json": {
              "schema": {
                "fields": [
                  {
                    "name": "index",
                    "type": "integer"
                  },
                  {
                    "name": "values",
                    "type": "number"
                  }
                ],
                "primaryKey": [
                  "index"
                ],
                "pandas_version": "0.20.0"
              },
              "data": [
                {
                  "index": 0,
                  "values": 1
                },
                {
                  "index": 1,
                  "values": 2
                },
                {
                  "index": 2,
                  "values": null
                },
                {
                  "index": 3,
                  "values": 4
                }
              ]
            }
          },
          "metadata": {
            "bento_obj_id": "139832115858064"
          },
          "execution_count": 2
        }
      ]
    },
    {
      "cell_type": "markdown",
      "metadata": {
        "originalKey": "3649c29b-0e6b-4b64-82a8-22ddf4594249"
      },
      "source": [
        "In Pandas each Series has an index, here depicted as the first column. Note also that the inferred type is float and not int, since in Pandas None implicitly  promotes an int list to a float series."
      ]
    },
    {
      "cell_type": "markdown",
      "metadata": {
        "originalKey": "6591dc54-5bc4-4fc7-9037-18ed59e251ae"
      },
      "source": [
        "TorchArrow has a much more precise type system:"
      ]
    },
    {
      "cell_type": "code",
      "metadata": {
        "originalKey": "fb49942c-b725-4bd9-aa0e-3156aa40ab59",
        "collapsed": false,
        "requestMsgId": "6423ff78-8866-47eb-a6c2-cf952014ecea",
        "executionStartTime": 1634146945042,
        "executionStopTime": 1634146945053,
        "code_folding": [],
        "hidden_ranges": []
      },
      "source": [
        "s = ta.column([1, 2, None, 4])\n",
        "s\n",
        ""
      ],
      "execution_count": 3,
      "outputs": [
        {
          "output_type": "execute_result",
          "data": {
            "text/plain": "0  1\n1  2\n2  None\n3  4\ndtype: Int64(nullable=True), length: 4, null_count: 1"
          },
          "metadata": {
            "bento_obj_id": "139832152394528"
          },
          "execution_count": 3
        }
      ]
    },
    {
      "cell_type": "markdown",
      "metadata": {
        "originalKey": "b623ed6e-d9bd-4710-91ce-e1a567f97350",
        "showInput": false,
        "customInput": null,
        "code_folding": [],
        "hidden_ranges": []
      },
      "source": [
        "TorchArrow creates CPU column by default, which is supported by [Velox](https://github.com/facebookincubator/velox) backend."
      ]
    },
    {
      "cell_type": "code",
      "metadata": {
        "originalKey": "80efeea3-ce16-44c3-9365-4f6120c24338",
        "showInput": true,
        "customInput": null,
        "code_folding": [],
        "hidden_ranges": [],
        "collapsed": false,
        "requestMsgId": "7e017323-27dd-4048-9c79-d33b23cdd3c4",
        "executionStartTime": 1634146945064,
        "executionStopTime": 1634146945208
      },
      "source": [
        "s.device\n",
        ""
      ],
      "execution_count": 4,
      "outputs": [
        {
          "output_type": "execute_result",
          "data": {
            "text/plain": "'cpu'"
          },
          "metadata": {
            "bento_obj_id": "139833745243312"
          },
          "execution_count": 4
        }
      ]
    },
    {
      "cell_type": "markdown",
      "metadata": {
        "originalKey": "fc30f67f-9f60-4d0a-950f-19593a7dc6f8",
        "showInput": false,
        "code_folding": [],
        "hidden_ranges": []
      },
      "source": [
        "TorchArrow infers that that the type is `Int64(nullable=True)`. Of course, we can always get lots of more information from a column: the length, count, null_count determine the total number, the number of non-null, and the number of nulls, respectively.\n",
        "\n",
        "\n",
        ""
      ]
    },
    {
      "cell_type": "code",
      "metadata": {
        "originalKey": "4346ceb7-148c-4d42-820d-1960b32337b5",
        "code_folding": [],
        "hidden_ranges": [],
        "collapsed": false,
        "requestMsgId": "81ea28a6-ddb8-49c9-a224-bffd4ccec1fe",
        "executionStartTime": 1634146945218,
        "executionStopTime": 1634146945398
      },
      "source": [
        "len(s), s._count(), s.null_count\n",
        ""
      ],
      "execution_count": 5,
      "outputs": [
        {
          "output_type": "execute_result",
          "data": {
            "text/plain": "(4, 3, 1)"
          },
          "metadata": {
            "bento_obj_id": "139832115862976"
          },
          "execution_count": 5
        }
      ]
    },
    {
      "cell_type": "markdown",
      "metadata": {
        "originalKey": "0cc9f285-0722-4839-ab3c-0bbb53ef2675",
        "showInput": false,
        "customInput": null,
        "code_folding": [],
        "hidden_ranges": []
      },
      "source": [
        "TorchArrow infers Python float as float32 (instead of float64). This follows PyTorch and other deep learning libraries. "
      ]
    },
    {
      "cell_type": "code",
      "metadata": {
        "originalKey": "3b6e4d17-172a-4725-8188-bc991420b704",
        "showInput": true,
        "customInput": null,
        "code_folding": [],
        "hidden_ranges": [],
        "collapsed": false,
        "requestMsgId": "d1ea8682-6adc-4b7c-9d6a-9e15c4de0563",
        "executionStartTime": 1634146945408,
        "executionStopTime": 1634146945418
      },
      "source": [
        "ss = ta.column([2.718, 3.14, 42.42])\n",
        "ss\n",
        ""
      ],
      "execution_count": 6,
      "outputs": [
        {
          "output_type": "execute_result",
          "data": {
            "text/plain": "0   2.718\n1   3.14\n2  42.42\ndtype: float32, length: 3, null_count: 0"
          },
          "metadata": {
            "bento_obj_id": "139832116030768"
          },
          "execution_count": 6
        }
      ]
    },
    {
      "cell_type": "markdown",
      "metadata": {
        "originalKey": "f9955c2e-4b35-4102-9ff7-2118d3337d3d",
        "showInput": false
      },
      "source": [
        "TorchArrow supports (almost all of Arrow types), including arbitrarily nested structs, maps, lists, and fixed size lists. Here is a non-nullable column of a list of non-nullable strings of arbitrary length."
      ]
    },
    {
      "cell_type": "code",
      "metadata": {
        "originalKey": "fd9365ca-6cb7-4b40-9490-77345cf70ab2",
        "collapsed": false,
        "requestMsgId": "6ff08fb0-371a-4cc6-a1d5-40d4b4740c6b",
        "executionStartTime": 1634146945426,
        "executionStopTime": 1634146945434,
        "code_folding": [],
        "hidden_ranges": []
      },
      "source": [
        "sf = ta.column([[\"hello\", \"world\"], [\"how\", \"are\", \"you\"]], dtype=dt.List(dt.string))\n",
        "sf.dtype\n",
        ""
      ],
      "execution_count": 7,
      "outputs": [
        {
          "output_type": "execute_result",
          "data": {
            "text/plain": "List(item_dtype=String(nullable=False), nullable=False, fixed_size=-1)"
          },
          "metadata": {
            "bento_obj_id": "139832116065184"
          },
          "execution_count": 7
        }
      ]
    },
    {
      "cell_type": "markdown",
      "metadata": {
        "originalKey": "6ca67b7d-73f2-450a-bbc4-c893658e3976"
      },
      "source": [
        "And here is a column of average climate data, one map per continent, with city as key and yearly average min and max temperature:\n",
        ""
      ]
    },
    {
      "cell_type": "code",
      "metadata": {
        "originalKey": "263c5539-3599-48d1-9b3a-115bfa61fc46",
        "collapsed": false,
        "requestMsgId": "2a5d9ee0-1d65-4c1c-a0d7-26afe02aa3ad",
        "executionStartTime": 1634146945446,
        "executionStopTime": 1634146945455,
        "code_folding": [],
        "hidden_ranges": []
      },
      "source": [
        "mf = ta.column(\n",
        "    [\n",
        "        {\"helsinki\": [-1.3, 21.5], \"moscow\": [-4.0, 24.3]},\n",
        "        {\"algiers\": [11.2, 25.2], \"kinshasa\": [22.2, 26.8]},\n",
        "    ]\n",
        ")\n",
        "mf\n",
        ""
      ],
      "execution_count": 8,
      "outputs": [
        {
          "output_type": "execute_result",
          "data": {
            "text/plain": "0  {'helsinki': [-1.2999999523162842, 21.5], 'moscow': [-4.0, 24.299999237060547]}\n1  {'algiers': [11.199999809265137, 25.200000762939453], 'kinshasa': [22.200000762939453, 26.799999237060547]}\ndtype: Map(string, List(float32)), length: 2, null_count: 0"
          },
          "metadata": {
            "bento_obj_id": "139832116028656"
          },
          "execution_count": 8
        }
      ]
    },
    {
      "cell_type": "markdown",
      "metadata": {
        "originalKey": "57b2c79a-4536-4c7f-a358-78ac2e12096c"
      },
      "source": [
        "### Append and concat"
      ]
    },
    {
      "cell_type": "markdown",
      "metadata": {
        "originalKey": "0bde1c7e-f951-4ec3-a1ff-515f2eafad75",
        "showInput": false,
        "code_folding": [],
        "hidden_ranges": []
      },
      "source": [
        "Columns are immutable. Use `append` to create a new column with a list of values appended. "
      ]
    },
    {
      "cell_type": "code",
      "metadata": {
        "originalKey": "aa4e87f4-9416-4f2a-9b54-198da9c22e3a",
        "code_folding": [],
        "hidden_ranges": [],
        "collapsed": false,
        "requestMsgId": "69d4bc16-703a-4400-87df-04cf495f3f8a",
        "executionStartTime": 1634146945467,
        "executionStopTime": 1634146945603
      },
      "source": [
        "sf = sf.append([[\"I\", \"am\", \"fine\", \"and\", \"you\"]])\n",
        "sf\n",
        ""
      ],
      "execution_count": 9,
      "outputs": [
        {
          "output_type": "execute_result",
          "data": {
            "text/plain": "0  ['hello', 'world']\n1  ['how', 'are', 'you']\n2  ['I', 'am', 'fine', 'and', 'you']\ndtype: List(string), length: 3, null_count: 0"
          },
          "metadata": {
            "bento_obj_id": "139832116030432"
          },
          "execution_count": 9
        }
      ]
    },
    {
      "cell_type": "markdown",
      "metadata": {
        "originalKey": "b16dac95-9f8c-4876-8b28-98e00fb6669a",
        "showInput": false,
        "customInput": null,
        "code_folding": [],
        "hidden_ranges": []
      },
      "source": [
        "Use `concat` to combine a list of columns."
      ]
    },
    {
      "cell_type": "code",
      "metadata": {
        "originalKey": "03678b24-be97-4b04-8cbd-fa6a2830ea5c",
        "showInput": true,
        "customInput": null,
        "code_folding": [],
        "hidden_ranges": [],
        "collapsed": false,
        "requestMsgId": "b0df3069-7f0a-479b-ac23-fb1fcd38bc8f",
        "executionStartTime": 1634146945659,
        "executionStopTime": 1634146945665
      },
      "source": [
        "# TODO: Fix this!\n",
        "# sf = sf.concat([ta.column(\"I\", \"am\", \"fine\", \"too\")]\n",
        ""
      ],
      "execution_count": 10,
      "outputs": []
    },
    {
      "cell_type": "markdown",
      "metadata": {
        "originalKey": "7541224a-ef7c-4884-87b8-783be9d88ba5",
        "showInput": false
      },
      "source": [
        "## Constructing data: Dataframes\n",
        "\n",
        "A Dataframe is just a set of named and strongly typed columns of equal length:"
      ]
    },
    {
      "cell_type": "code",
      "metadata": {
        "originalKey": "fdbb0894-4b50-4bc1-8e71-29c7683956e8",
        "code_folding": [],
        "hidden_ranges": [],
        "collapsed": false,
        "requestMsgId": "25aa1e61-4bdb-49c8-bd10-d1da21420583",
        "executionStartTime": 1634146945673,
        "executionStopTime": 1634146945735
      },
      "source": [
        "df = ta.dataframe(\n",
        "    {\"a\": list(range(7)), \"b\": list(reversed(range(7))), \"c\": list(range(7))}\n",
        ")\n",
        "df\n",
        ""
      ],
      "execution_count": 11,
      "outputs": [
        {
          "output_type": "execute_result",
          "data": {
            "text/plain": "  index    a    b    c\n-------  ---  ---  ---\n      0    0    6    0\n      1    1    5    1\n      2    2    4    2\n      3    3    3    3\n      4    4    2    4\n      5    5    1    5\n      6    6    0    6\ndtype: Struct([Field('a', int64), Field('b', int64), Field('c', int64)]), count: 7, null_count: 0"
          },
          "metadata": {
            "bento_obj_id": "139832116030864"
          },
          "execution_count": 11
        }
      ]
    },
    {
      "cell_type": "markdown",
      "metadata": {
        "originalKey": "c2aa25da-562a-412d-8e70-6e033e81259f"
      },
      "source": [
        "To access a dataframes columns write:"
      ]
    },
    {
      "cell_type": "code",
      "metadata": {
        "originalKey": "3f290b55-eb1a-445a-ab57-93aadff013b4",
        "collapsed": false,
        "requestMsgId": "5356a1de-5a4a-4be7-99a3-66a08a3cb120",
        "executionStartTime": 1634146945788,
        "executionStopTime": 1634146945829,
        "code_folding": [],
        "hidden_ranges": []
      },
      "source": [
        "df.columns\n",
        ""
      ],
      "execution_count": 12,
      "outputs": [
        {
          "output_type": "execute_result",
          "data": {
            "text/plain": "['a', 'b', 'c']"
          },
          "metadata": {
            "bento_obj_id": "139832115342784"
          },
          "execution_count": 12
        }
      ]
    },
    {
      "cell_type": "markdown",
      "metadata": {
        "originalKey": "bb21cdb2-0991-4f87-b298-83176cee9351",
        "showInput": false,
        "code_folding": [],
        "hidden_ranges": []
      },
      "source": [
        "Dataframes are also immutable, except you can always add a new column or overwrite an existing column. \n",
        "\n",
        "When a new column is added, it is appended to the set of existing columns at the end."
      ]
    },
    {
      "cell_type": "code",
      "metadata": {
        "originalKey": "2542d3ec-69ea-4c63-9f89-8f3a95755a43",
        "collapsed": false,
        "requestMsgId": "424f0969-95f7-4bac-b0e3-5f220b4eb4c9",
        "executionStartTime": 1634146945887,
        "executionStopTime": 1634146945912,
        "code_folding": [],
        "hidden_ranges": []
      },
      "source": [
        "df[\"d\"] = ta.column(list(range(99, 99 + 7)))\n",
        "df\n",
        ""
      ],
      "execution_count": 13,
      "outputs": [
        {
          "output_type": "execute_result",
          "data": {
            "text/plain": "  index    a    b    c    d\n-------  ---  ---  ---  ---\n      0    0    6    0   99\n      1    1    5    1  100\n      2    2    4    2  101\n      3    3    3    3  102\n      4    4    2    4  103\n      5    5    1    5  104\n      6    6    0    6  105\ndtype: Struct([Field('a', int64), Field('b', int64), Field('c', int64), Field('d', int64)]), count: 7, null_count: 0"
          },
          "metadata": {
            "bento_obj_id": "139832116030864"
          },
          "execution_count": 13
        }
      ]
    },
    {
      "cell_type": "markdown",
      "metadata": {
        "originalKey": "006cc907-0beb-4b16-b0aa-6033ec3ef628",
        "showInput": false,
        "customInput": null,
        "code_folding": [],
        "hidden_ranges": []
      },
      "source": [
        "You can also overwrite an existing column."
      ]
    },
    {
      "cell_type": "code",
      "metadata": {
        "originalKey": "8ddeb5dc-db38-4914-b497-17fd2716dde9",
        "showInput": true,
        "customInput": null,
        "code_folding": [],
        "hidden_ranges": [],
        "collapsed": false,
        "requestMsgId": "25404e3c-4c12-431a-90d3-39b6468d03ad",
        "executionStartTime": 1634146945914,
        "executionStopTime": 1634146945977
      },
      "source": [
        "df[\"c\"] = df[\"b\"] * 2\n",
        "df\n",
        ""
      ],
      "execution_count": 14,
      "outputs": [
        {
          "output_type": "execute_result",
          "data": {
            "text/plain": "  index    a    b    c    d\n-------  ---  ---  ---  ---\n      0    0    6   12   99\n      1    1    5   10  100\n      2    2    4    8  101\n      3    3    3    6  102\n      4    4    2    4  103\n      5    5    1    2  104\n      6    6    0    0  105\ndtype: Struct([Field('a', int64), Field('b', int64), Field('c', int64), Field('d', int64)]), count: 7, null_count: 0"
          },
          "metadata": {
            "bento_obj_id": "139832116030864"
          },
          "execution_count": 14
        }
      ]
    },
    {
      "cell_type": "markdown",
      "metadata": {
        "originalKey": "f47b07c3-372f-4b59-af21-83e0e5dccf46",
        "showInput": false,
        "customInput": null,
        "code_folding": [],
        "hidden_ranges": []
      },
      "source": [
        "Similar to Column, we can also use `append` to create a new DataFrame with a listed of tuples appended."
      ]
    },
    {
      "cell_type": "code",
      "metadata": {
        "originalKey": "f06344a5-d82a-4d2e-a9bb-d0b9db2ee919",
        "showInput": true,
        "customInput": null,
        "code_folding": [],
        "hidden_ranges": [],
        "collapsed": false,
        "requestMsgId": "9b3dbf9a-475f-406e-8c80-0fa16cffacb3",
        "executionStartTime": 1634146945981,
        "executionStopTime": 1634146946044
      },
      "source": [
        "df = df.append([(7, 77, 777, 7777), (8, 88, 888, 8888)])\n",
        "df\n",
        ""
      ],
      "execution_count": 15,
      "outputs": [
        {
          "output_type": "execute_result",
          "data": {
            "text/plain": "  index    a    b    c     d\n-------  ---  ---  ---  ----\n      0    0    6   12    99\n      1    1    5   10   100\n      2    2    4    8   101\n      3    3    3    6   102\n      4    4    2    4   103\n      5    5    1    2   104\n      6    6    0    0   105\n      7    7   77  777  7777\n      8    8   88  888  8888\ndtype: Struct([Field('a', int64), Field('b', int64), Field('c', int64), Field('d', int64)]), count: 9, null_count: 0"
          },
          "metadata": {
            "bento_obj_id": "139832115409728"
          },
          "execution_count": 15
        }
      ]
    },
    {
      "cell_type": "markdown",
      "metadata": {
        "originalKey": "b15b6ac7-93b0-4dbf-9ea6-49dab9c41199"
      },
      "source": [
        "Dataframes can be nested. Here is a Dataframe having sub-dataframes. \n",
        ""
      ]
    },
    {
      "cell_type": "code",
      "metadata": {
        "originalKey": "e7557899-8bff-474d-ae29-14535eb0f8cd",
        "code_folding": [],
        "hidden_ranges": [],
        "collapsed": false,
        "requestMsgId": "2475bb57-78f8-47d8-8924-3c9d8a78cf15",
        "executionStartTime": 1634146946085,
        "executionStopTime": 1634146946144
      },
      "source": [
        "df_inner = ta.dataframe({\"b1\": [11, 22, 33], \"b2\": [111, 222, 333]})\n",
        "df_outer = ta.dataframe({\"a\": [1, 2, 3], \"b\": df_inner})\n",
        "df_outer\n",
        ""
      ],
      "execution_count": 16,
      "outputs": [
        {
          "output_type": "execute_result",
          "data": {
            "text/plain": "  index    a  b\n-------  ---  ---------\n      0    1  (11, 111)\n      1    2  (22, 222)\n      2    3  (33, 333)\ndtype: Struct([Field('a', int64), Field('b', Struct([Field('b1', int64), Field('b2', int64)]))]), count: 3, null_count: 0"
          },
          "metadata": {
            "bento_obj_id": "139832115393632"
          },
          "execution_count": 16
        }
      ]
    },
    {
      "cell_type": "markdown",
      "metadata": {
        "originalKey": "42337a3f-23bc-4230-922d-9935c69f0c37",
        "showInput": false,
        "customInput": null,
        "code_folding": [],
        "hidden_ranges": []
      },
      "source": [
        "## Interop\n",
        "\n",
        "Coming soon!"
      ]
    },
    {
      "cell_type": "markdown",
      "metadata": {
        "originalKey": "1105b29d-2384-4cc4-859d-994240cc6482",
        "showInput": false
      },
      "source": [
        "## Viewing (sorted) data\n",
        "\n",
        "Take the the top n rows"
      ]
    },
    {
      "cell_type": "code",
      "metadata": {
        "originalKey": "498a15e2-d232-43e2-b4a9-0d291270a0dc",
        "collapsed": false,
        "requestMsgId": "e8f8628d-62bd-4be9-8580-67ef26f210c6",
        "executionStartTime": 1634146946428,
        "executionStopTime": 1634146946438
      },
      "source": [
        "df.head(2)\n",
        ""
      ],
      "execution_count": 17,
      "outputs": [
        {
          "output_type": "execute_result",
          "data": {
            "text/plain": "  index    a    b    c    d\n-------  ---  ---  ---  ---\n      0    0    6   12   99\n      1    1    5   10  100\ndtype: Struct([Field('a', int64), Field('b', int64), Field('c', int64), Field('d', int64)]), count: 2, null_count: 0"
          },
          "metadata": {
            "bento_obj_id": "139832115417488"
          },
          "execution_count": 17
        }
      ]
    },
    {
      "cell_type": "markdown",
      "metadata": {
        "originalKey": "00c88f87-3605-4170-a561-0f98b26f9d6d"
      },
      "source": [
        "Or return the last n rows"
      ]
    },
    {
      "cell_type": "code",
      "metadata": {
        "originalKey": "126216fd-309d-4103-ba7e-adf5838f8fee",
        "collapsed": false,
        "requestMsgId": "468c7b8a-a517-40c3-882e-6eb9f02b9767",
        "executionStartTime": 1634146946450,
        "executionStopTime": 1634146946460
      },
      "source": [
        "df.tail(1)\n",
        ""
      ],
      "execution_count": 18,
      "outputs": [
        {
          "output_type": "execute_result",
          "data": {
            "text/plain": "  index    a    b    c     d\n-------  ---  ---  ---  ----\n      0    8   88  888  8888\ndtype: Struct([Field('a', int64), Field('b', int64), Field('c', int64), Field('d', int64)]), count: 1, null_count: 0"
          },
          "metadata": {
            "bento_obj_id": "139832115442640"
          },
          "execution_count": 18
        }
      ]
    },
    {
      "cell_type": "markdown",
      "metadata": {
        "originalKey": "38b01f3f-30ef-49cf-a3ff-50689b4f39d6"
      },
      "source": [
        "or sort the values before hand."
      ]
    },
    {
      "cell_type": "code",
      "metadata": {
        "originalKey": "b450dd3b-8287-4738-b239-7009dc1d3f40",
        "collapsed": false,
        "requestMsgId": "68367688-b6c8-4bec-827e-d83e2c14d574",
        "executionStartTime": 1634146946470,
        "executionStopTime": 1634146946516
      },
      "source": [
        "df.sort(by=[\"c\", \"b\"]).head(2)\n",
        ""
      ],
      "execution_count": 19,
      "outputs": [
        {
          "output_type": "execute_result",
          "data": {
            "text/plain": "  index    a    b    c    d\n-------  ---  ---  ---  ---\n      0    6    0    0  105\n      1    5    1    2  104\ndtype: Struct([Field('a', int64), Field('b', int64), Field('c', int64), Field('d', int64)]), count: 2, null_count: 0"
          },
          "metadata": {
            "bento_obj_id": "139832115393392"
          },
          "execution_count": 19
        }
      ]
    },
    {
      "cell_type": "markdown",
      "metadata": {
        "originalKey": "7b28b1f1-b4d3-490c-8b20-86a0733027ca"
      },
      "source": [
        "Sorting can be controlled not only by which columns to sort on, but also whether to sort ascending or descending, and how to deal with nulls, are they listed first or last.  \n",
        "\n",
        "## Selection using Indices\n",
        "\n",
        "Torcharrow supports two indices:\n",
        " - Integer indices select rows\n",
        " - String indices select columns\n",
        "\n",
        "So projecting a single column of a dataframe is simply"
      ]
    },
    {
      "cell_type": "code",
      "metadata": {
        "originalKey": "435a2616-45ba-4e0f-b081-b016f176ce87",
        "collapsed": false,
        "requestMsgId": "dcb2b825-9441-4363-87b1-ce2ca13890e1",
        "executionStartTime": 1634146946527,
        "executionStopTime": 1634146946541
      },
      "source": [
        "df['a']"
      ],
      "execution_count": 20,
      "outputs": [
        {
          "output_type": "execute_result",
          "data": {
            "text/plain": "0  0\n1  1\n2  2\n3  3\n4  4\n5  5\n6  6\n7  7\n8  8\ndtype: int64, length: 9, null_count: 0"
          },
          "metadata": {
            "bento_obj_id": "139832115417776"
          },
          "execution_count": 20
        }
      ]
    },
    {
      "cell_type": "markdown",
      "metadata": {
        "originalKey": "f880caf6-e1ea-4f75-990c-787f76e0d709",
        "showInput": false,
        "code_folding": [],
        "hidden_ranges": []
      },
      "source": [
        "Selecting a single row uses an integer index. (In TorchArrow everything is zero-based.)"
      ]
    },
    {
      "cell_type": "code",
      "metadata": {
        "originalKey": "a428d72d-886d-4060-8c19-e787bd0fdcd1",
        "collapsed": false,
        "requestMsgId": "6ed34a0e-341e-4616-a498-2f3b7ebe857e",
        "executionStartTime": 1634146946545,
        "executionStopTime": 1634146946838
      },
      "source": [
        "df[1]"
      ],
      "execution_count": 21,
      "outputs": [
        {
          "output_type": "execute_result",
          "data": {
            "text/plain": "(1, 5, 10, 100)"
          },
          "metadata": {
            "bento_obj_id": "139832115361808"
          },
          "execution_count": 21
        }
      ]
    },
    {
      "cell_type": "markdown",
      "metadata": {
        "originalKey": "ec6c39eb-b967-41d1-920e-04ed7cb82cb3"
      },
      "source": [
        "Selecting a slice keeps the type alive. Here we slice rows:\n",
        ""
      ]
    },
    {
      "cell_type": "code",
      "metadata": {
        "originalKey": "edc4e2cb-87ed-4c57-915d-ae81951ad6db",
        "collapsed": false,
        "requestMsgId": "f198eb5c-6626-4dbc-a513-44a4534b7a7c",
        "executionStartTime": 1634146946844,
        "executionStopTime": 1634146946896
      },
      "source": [
        "df[2:6:2]"
      ],
      "execution_count": 22,
      "outputs": [
        {
          "output_type": "execute_result",
          "data": {
            "text/plain": "  index    a    b    c    d\n-------  ---  ---  ---  ---\n      0    2    4    8  101\n      1    4    2    4  103\ndtype: Struct([Field('a', int64), Field('b', int64), Field('c', int64), Field('d', int64)]), count: 2, null_count: 0"
          },
          "metadata": {
            "bento_obj_id": "139832115418448"
          },
          "execution_count": 22
        }
      ]
    },
    {
      "cell_type": "markdown",
      "metadata": {
        "originalKey": "39596721-fafa-4afe-8e30-adebc69d41e7",
        "showInput": false,
        "code_folding": [],
        "hidden_ranges": []
      },
      "source": [
        "TorchArrow follows the normal Python semantics for slices: that is a slice interval is closed on the left and open on the right."
      ]
    },
    {
      "cell_type": "markdown",
      "metadata": {
        "originalKey": "baacc363-e121-4fcf-a9c8-23d966f12fa0"
      },
      "source": [
        "## Selection by Condition\n",
        "\n",
        "Selection of a column or dataframe *c* by a condition takes a boolean column *b* of the same length as *c*. If the *i*th row in *b* is true, *c*'s *i*th row is included in the result otherwise it is dropped. Below expression selects the first row, since it is true, and drops all remaining rows, since they are false.\n",
        "\n",
        ""
      ]
    },
    {
      "cell_type": "code",
      "metadata": {
        "originalKey": "ad9bfa3b-d6c8-45d6-864f-6b3954869f3a",
        "collapsed": false,
        "requestMsgId": "a4566ece-18c3-49da-a152-7a3d5be2b729",
        "executionStartTime": 1634146947180,
        "executionStopTime": 1634146947213
      },
      "source": [
        "df[[True] + [False] * (len(df)-1)]"
      ],
      "execution_count": 24,
      "outputs": [
        {
          "output_type": "execute_result",
          "data": {
            "text/plain": "  index    a    b    c    d\n-------  ---  ---  ---  ---\n      0    0    6   12   99\ndtype: Struct([Field('a', int64), Field('b', int64), Field('c', int64), Field('d', int64)]), count: 1, null_count: 0"
          },
          "metadata": {
            "bento_obj_id": "139832115417632"
          },
          "execution_count": 24
        }
      ]
    },
    {
      "cell_type": "markdown",
      "metadata": {
        "originalKey": "e4895c9f-3555-4c97-85f2-246f874055fb"
      },
      "source": [
        "Conditional expressions over vectors return boolean vectors. Conditionals are thus the usual way to write filters. "
      ]
    },
    {
      "cell_type": "code",
      "metadata": {
        "originalKey": "6496730a-c016-49a4-a436-7be4791e053b",
        "collapsed": false,
        "requestMsgId": "86dd71f3-b280-44f6-823b-0c22e556828f",
        "executionStartTime": 1634146947469,
        "executionStopTime": 1634146947503
      },
      "source": [
        "b = df['a'] > 4\n",
        "df[b]"
      ],
      "execution_count": 25,
      "outputs": [
        {
          "output_type": "execute_result",
          "data": {
            "text/plain": "  index    a    b    c     d\n-------  ---  ---  ---  ----\n      0    5    1    2   104\n      1    6    0    0   105\n      2    7   77  777  7777\n      3    8   88  888  8888\ndtype: Struct([Field('a', int64), Field('b', int64), Field('c', int64), Field('d', int64)]), count: 4, null_count: 0"
          },
          "metadata": {
            "bento_obj_id": "139832116065376"
          },
          "execution_count": 25
        }
      ]
    },
    {
      "cell_type": "markdown",
      "metadata": {
        "originalKey": "f4dc2c36-5a24-42a5-b960-612d5ded52a6"
      },
      "source": [
        "Torcharrow supports all the usual predicates, like ==,!=,<,<=,>,>= as well as _in_. The later is denoted by `isin`\n",
        ""
      ]
    },
    {
      "cell_type": "code",
      "metadata": {
        "originalKey": "04e901c7-eb60-47ba-9b01-5b69481f4177",
        "collapsed": false,
        "requestMsgId": "42a02c2c-72df-47c3-b69d-9ed0a2b110ca",
        "executionStartTime": 1634146947507,
        "executionStopTime": 1634146947514
      },
      "source": [
        "df[df['a'].isin([5])]"
      ],
      "execution_count": 26,
      "outputs": [
        {
          "output_type": "execute_result",
          "data": {
            "text/plain": "  index    a    b    c    d\n-------  ---  ---  ---  ---\n      0    5    1    2  104\ndtype: Struct([Field('a', int64), Field('b', int64), Field('c', int64), Field('d', int64)]), count: 1, null_count: 0"
          },
          "metadata": {
            "bento_obj_id": "139832116065472"
          },
          "execution_count": 26
        }
      ]
    },
    {
      "cell_type": "markdown",
      "metadata": {
        "originalKey": "faa2b1cd-01cc-4a8c-ae07-f1ba34417eb5"
      },
      "source": [
        "## Missing data\n",
        " Missing data can be filled in via the `fill_null` method "
      ]
    },
    {
      "cell_type": "code",
      "metadata": {
        "originalKey": "382b48a2-25a4-4f60-a0f0-4a156fd5a8fd",
        "collapsed": false,
        "requestMsgId": "00b4bb82-9b3b-42b0-94af-ae0aa6ff8851",
        "executionStartTime": 1634146947522,
        "executionStopTime": 1634146947576
      },
      "source": [
        "t = s.fill_null(999)\n",
        "t"
      ],
      "execution_count": 27,
      "outputs": [
        {
          "output_type": "execute_result",
          "data": {
            "text/plain": "0    1\n1    2\n2  999\n3    4\ndtype: Int64(nullable=True), length: 4, null_count: 0"
          },
          "metadata": {
            "bento_obj_id": "139832115444080"
          },
          "execution_count": 27
        }
      ]
    },
    {
      "cell_type": "markdown",
      "metadata": {
        "originalKey": "974e03ce-59f5-48cd-80e8-e2f5fcb629c9"
      },
      "source": [
        "Alternatively data that has null data can be dropped:"
      ]
    },
    {
      "cell_type": "code",
      "metadata": {
        "originalKey": "745a2164-ce40-48cf-8b94-d9a0bc93a39f",
        "collapsed": false,
        "requestMsgId": "7fc159fb-cec0-4b83-987a-0b45ca0a7f4b",
        "executionStartTime": 1634146947581,
        "executionStopTime": 1634146947680
      },
      "source": [
        "s.drop_null()"
      ],
      "execution_count": 28,
      "outputs": [
        {
          "output_type": "execute_result",
          "data": {
            "text/plain": "0  1\n1  2\n2  4\ndtype: Int64(nullable=True), length: 3, null_count: 0"
          },
          "metadata": {
            "bento_obj_id": "139832152344176"
          },
          "execution_count": 28
        }
      ]
    },
    {
      "cell_type": "markdown",
      "metadata": {
        "originalKey": "189a33bd-547b-40a1-8265-e436295c2ee0"
      },
      "source": [
        "## Operators\n",
        "Columns and dataframes support all of Python's usual binary operators, like  ==,!=,<,<=,>,>= for equality  and comparison,  +,-,*,**,/,// for performing arithmetic and &,|,~ for conjunction, disjunction and negation. \n",
        "\n",
        "The semantics of each operator is given by lifting their scalar operation to vectors and dataframes. So given for instance a scalar comparison operator, in TorchArrow a scalar can be compared to each item in a column, two columns can be compared pointwise, a column can be compared to each column of a dataframe, and two dataframes can be compared by comparing each of their respective columns. \n",
        "\n",
        "Here are some example expressions:"
      ]
    },
    {
      "cell_type": "code",
      "metadata": {
        "originalKey": "2d2faefb-c239-43f8-b250-db741e4369bf",
        "collapsed": false,
        "requestMsgId": "66932ea3-76c8-42b3-86b9-c014b4da7919",
        "executionStartTime": 1634146947716,
        "executionStopTime": 1634146947757
      },
      "source": [
        "u = ta.column(list(range(5)))\n",
        "v = -u\n",
        "w = v+1\n",
        "v*w"
      ],
      "execution_count": 29,
      "outputs": [
        {
          "output_type": "execute_result",
          "data": {
            "text/plain": "0   0\n1   0\n2   2\n3   6\n4  12\ndtype: int64, length: 5, null_count: 0"
          },
          "metadata": {
            "bento_obj_id": "139832115550960"
          },
          "execution_count": 29
        }
      ]
    },
    {
      "cell_type": "code",
      "metadata": {
        "originalKey": "443247e5-d8de-43cf-bd08-7f15435d6b24",
        "collapsed": false,
        "requestMsgId": "673310f4-cc3f-4884-b9df-0f0adfd43fd4",
        "executionStartTime": 1634146947852,
        "executionStopTime": 1634146947971
      },
      "source": [
        "uv = ta.dataframe({\"a\": u, \"b\": v})\n",
        "uu = ta.dataframe({\"a\": u, \"b\": u})\n",
        "(uv == uu)\n",
        ""
      ],
      "execution_count": 30,
      "outputs": [
        {
          "output_type": "execute_result",
          "data": {
            "text/plain": "  index  a     b\n-------  ----  -----\n      0  True  True\n      1  True  False\n      2  True  False\n      3  True  False\n      4  True  False\ndtype: Struct([Field('a', boolean), Field('b', boolean)]), count: 5, null_count: 0"
          },
          "metadata": {
            "bento_obj_id": "139832116066720"
          },
          "execution_count": 30
        }
      ]
    },
    {
      "cell_type": "markdown",
      "metadata": {
        "originalKey": "f25722fd-786d-4542-8e45-555609fc9c87"
      },
      "source": [
        "## Null strictness\n",
        "\n",
        "The default behavior of torcharrow operators and functions is that *if any argument is null then the result is null*. For instance:"
      ]
    },
    {
      "cell_type": "code",
      "metadata": {
        "originalKey": "540a4fc0-fa9e-4002-997d-8390d3eabab4",
        "collapsed": false,
        "requestMsgId": "656097b2-5900-48aa-bcf4-6b9a274a5bb7",
        "executionStartTime": 1634146948023,
        "executionStopTime": 1634146948178
      },
      "source": [
        "u = ta.column([1, None, 3])\n",
        "v = ta.column([11, None, None])\n",
        "u + v\n",
        ""
      ],
      "execution_count": 31,
      "outputs": [
        {
          "output_type": "execute_result",
          "data": {
            "text/plain": "0  12\n1  None\n2  None\ndtype: Int64(nullable=True), length: 3, null_count: 2"
          },
          "metadata": {
            "bento_obj_id": "139832115562576"
          },
          "execution_count": 31
        }
      ]
    },
    {
      "cell_type": "markdown",
      "metadata": {
        "originalKey": "64f45ae5-7dee-440f-af71-7657e42889fe",
        "showInput": false,
        "code_folding": [],
        "hidden_ranges": []
      },
      "source": [
        "If null strictness does not work for your code you could call first `fill_null` to provide a value that is used instead of null. "
      ]
    },
    {
      "cell_type": "markdown",
      "metadata": {
        "originalKey": "cb1f8bba-a750-4153-b195-ff9a2ce36f88"
      },
      "source": [
        "## Numerical columns and descriptive statistics\n",
        "Numerical columns also support lifted operations, for `abs`, `ceil`, `floor`, `round`. Even more excited might be to use their aggregation operators like `count`, `sum`, `prod`, `min`, `max`, or descriptive statistics like `std`, `mean`, `median`, and `mode`. Here is an example ensemble:\n",
        ""
      ]
    },
    {
      "cell_type": "code",
      "metadata": {
        "originalKey": "504f6958-4550-4c4a-b664-49630248231f",
        "collapsed": false,
        "requestMsgId": "7cb1a1d3-730a-4888-9919-2c11a833f115",
        "executionStartTime": 1634146948239,
        "executionStopTime": 1634146948345
      },
      "source": [
        "(t.min(), t.max(), t.sum(), t.mean())\n",
        ""
      ],
      "execution_count": 32,
      "outputs": [
        {
          "output_type": "execute_result",
          "data": {
            "text/plain": "(1, 999, 1006, 251.5)"
          },
          "metadata": {
            "bento_obj_id": "139832115329920"
          },
          "execution_count": 32
        }
      ]
    },
    {
      "cell_type": "markdown",
      "metadata": {
        "originalKey": "a27f173e-e994-466f-b738-3653c0a1cfc7"
      },
      "source": [
        "The `describe` method puts this nicely together: "
      ]
    },
    {
      "cell_type": "code",
      "metadata": {
        "originalKey": "310d6b29-8035-4d59-bfd0-d66fcadd1968",
        "collapsed": false,
        "requestMsgId": "13122fc4-95a0-4982-8892-1e8ca1317eb5",
        "executionStartTime": 1634146948558,
        "executionStopTime": 1634146948567
      },
      "source": [
        "t.describe()\n",
        ""
      ],
      "execution_count": 33,
      "outputs": [
        {
          "output_type": "execute_result",
          "data": {
            "text/plain": "  index  statistic      value\n-------  -----------  -------\n      0  count          4\n      1  mean         251.5\n      2  std          498.335\n      3  min            1\n      4  25%            1.75\n      5  50%            3\n      6  75%          252.75\n      7  max          999\ndtype: Struct([Field('statistic', string), Field('value', float64)]), count: 8, null_count: 0"
          },
          "metadata": {
            "bento_obj_id": "139832115472464"
          },
          "execution_count": 33
        }
      ]
    },
    {
      "cell_type": "markdown",
      "metadata": {
        "originalKey": "b155644c-9197-49c6-8147-2e8dc483cb00"
      },
      "source": [
        "Sum, prod, min and max are also available as accumulating operators called `cumsum`, `cumprod`, etc. \n",
        "\n",
        "Boolean vectors are very similar to numerical vector. They offer the aggregation operators `any` and `all`. "
      ]
    },
    {
      "cell_type": "markdown",
      "metadata": {
        "originalKey": "a0380093-50de-419b-9a76-2a149f7420dd",
        "showInput": false,
        "code_folding": [],
        "hidden_ranges": []
      },
      "source": [
        "## String, list and map methods\n",
        "Torcharrow provides all of Python's string, list and map processing methods, just lifted to work over columns. Like in Pandas they are all accessible via the `str`, `list` and `map` property, respectively.\n",
        "\n",
        "### Strings\n",
        "Let's convert a Column of strings to upper case. \n",
        ""
      ]
    },
    {
      "cell_type": "code",
      "metadata": {
        "originalKey": "57a885f3-7bd5-45e8-b496-78a1db103a05",
        "collapsed": false,
        "requestMsgId": "5476c9a8-3c6c-43c1-aeb2-a9b6f7d47c10",
        "executionStartTime": 1634146948679,
        "executionStopTime": 1634146948734,
        "code_folding": [],
        "hidden_ranges": []
      },
      "source": [
        "s = ta.column([\"what a wonderful world!\", \"really?\"])\n",
        "s.str.upper()\n",
        ""
      ],
      "execution_count": 34,
      "outputs": [
        {
          "output_type": "execute_result",
          "data": {
            "text/plain": "0  'WHAT A WONDERFUL WORLD!'\n1  'REALLY?'\ndtype: string, length: 2, null_count: 0, device: cpu"
          },
          "metadata": {
            "bento_obj_id": "139832115548944"
          },
          "execution_count": 34
        }
      ]
    },
    {
      "cell_type": "markdown",
      "metadata": {
        "originalKey": "bde0c394-a8cb-46bc-8f73-307c2787b314",
        "showInput": false,
        "code_folding": [],
        "hidden_ranges": []
      },
      "source": [
        "We can also split each string to a list of strings with the given delimiter.\n",
        ""
      ]
    },
    {
      "cell_type": "code",
      "metadata": {
        "originalKey": "574dbe5c-f1e1-4a29-b9fe-fa9d50eab7dc",
        "collapsed": false,
        "requestMsgId": "62d3b023-e64b-4a2c-b599-3917410f3da8",
        "executionStartTime": 1634146948783,
        "executionStopTime": 1634146948979
      },
      "source": [
        "ss = s.str.split(pat=\" \")\n",
        "ss\n",
        ""
      ],
      "execution_count": 35,
      "outputs": [
        {
          "output_type": "execute_result",
          "data": {
            "text/plain": "0  ['WHAT', 'A', 'WONDERFUL', 'WORLD!']\n1  ['really?']\ndtype: List(string), length: 2, null_count: 0"
          },
          "metadata": {
            "bento_obj_id": "139832115454592"
          },
          "execution_count": 35
        }
      ]
    },
    {
      "cell_type": "markdown",
      "metadata": {
        "originalKey": "c8f8f9f2-4fa7-4ed6-ae82-bdca98cca212"
      },
      "source": [
        "### Lists\n",
        "\n",
        "To operate on a list column use the usual pure list operations, like `len(gth)`, `slice`, `index` and `count`, etc. But there are a couple of additional operations. \n",
        "\n",
        "For instance to invert the result of a string split operation a list of string column also offers a join operation. \n",
        ""
      ]
    },
    {
      "cell_type": "code",
      "metadata": {
        "originalKey": "a289c6c5-6989-43df-b351-1727bd5fb36f",
        "collapsed": false,
        "requestMsgId": "f396d770-2718-4fb3-b7d2-49560db2b1c7",
        "executionStartTime": 1634146949058,
        "executionStopTime": 1634146949208
      },
      "source": [
        "ss.list.join(sep=\"-\")\n",
        ""
      ],
      "execution_count": 36,
      "outputs": [
        {
          "output_type": "execute_result",
          "data": {
            "text/plain": "0  'WHAT-A-WONDERFUL-WORLD!'\n1  'really?'\ndtype: string, length: 2, null_count: 0, device: cpu"
          },
          "metadata": {
            "bento_obj_id": "139832115471408"
          },
          "execution_count": 36
        }
      ]
    },
    {
      "cell_type": "markdown",
      "metadata": {
        "originalKey": "3af3113c-5187-4723-a872-db888198654f",
        "showInput": false,
        "code_folding": [],
        "hidden_ranges": []
      },
      "source": [
        "In addition lists provide `filter`, `map`, `flatmap` and `reduce` operators, which we will discuss as in more details in functional tools.\n",
        "\n",
        "### Maps\n",
        "\n",
        "Column of type map provide the usual map operations like `len(gth)`, `[]`, `keys` and `values`. Keys and values both return a list column. Key and value columns can be reassembled by calling `mapsto`."
      ]
    },
    {
      "cell_type": "code",
      "metadata": {
        "originalKey": "de368152-9a3e-4b7c-95a7-a441fdd89485",
        "collapsed": false,
        "requestMsgId": "6c901ed8-160a-4eee-a203-ed8036423088",
        "executionStartTime": 1634146949217,
        "executionStopTime": 1634146949274,
        "code_folding": [],
        "hidden_ranges": []
      },
      "source": [
        "mf.maps.keys()\n",
        ""
      ],
      "execution_count": 37,
      "outputs": [
        {
          "output_type": "execute_result",
          "data": {
            "text/plain": "0  ['helsinki', 'moscow']\n1  ['algiers', 'kinshasa']\ndtype: List(string), length: 2, null_count: 0"
          },
          "metadata": {
            "bento_obj_id": "139832115550432"
          },
          "execution_count": 37
        }
      ]
    },
    {
      "cell_type": "markdown",
      "metadata": {
        "originalKey": "33cd7f02-2c0f-4bae-a8a3-a1cb796a66b0",
        "showInput": false,
        "code_folding": [],
        "hidden_ranges": []
      },
      "source": [
        "## Relational tools: Where, select, groupby, join, etc.\n",
        " \n",
        "TorchArrow also plans to support all relational operators on DataFrame. The following sections discuss what exists today.\n",
        "\n",
        "### Where\n",
        "The simplest operator is `df.where(p)` which is just another way of writing `df[p]`. (Note: TorchArrow's `where`  is not Pandas' `where`, the latter is a vectorized if-then-else which we call in Torcharrow `ite`.)"
      ]
    },
    {
      "cell_type": "code",
      "metadata": {
        "originalKey": "107c808a-08e8-4f98-b1b0-45d6294a8b75",
        "collapsed": false,
        "requestMsgId": "c76b5e6b-e441-4c34-b12d-e02a15bd631f",
        "executionStartTime": 1634146949314,
        "executionStopTime": 1634146949374
      },
      "source": [
        "xf = ta.dataframe({\"A\": [\"a\", \"b\", \"a\", \"b\"], \"B\": [1, 2, 3, 4], \"C\": [10, 11, 12, 13]})\n",
        "\n",
        "xf.where(xf[\"B\"] > 2)\n",
        ""
      ],
      "execution_count": 38,
      "outputs": [
        {
          "output_type": "execute_result",
          "data": {
            "text/plain": "  index  A      B    C\n-------  ---  ---  ---\n      0  a      3   12\n      1  b      4   13\ndtype: Struct([Field('A', string), Field('B', int64), Field('C', int64)]), count: 2, null_count: 0"
          },
          "metadata": {
            "bento_obj_id": "139832116066912"
          },
          "execution_count": 38
        }
      ]
    },
    {
      "cell_type": "markdown",
      "metadata": {
        "originalKey": "e34fa4b9-0432-4384-969b-d8458da2d02e"
      },
      "source": [
        "Note that in `xf.where` the predicate `xf['B']>2` refers to self, i.e. `xf`. To access self in an expression TorchArrow introduces the special name `me`. That is, we can also write:\n",
        ""
      ]
    },
    {
      "cell_type": "code",
      "metadata": {
        "originalKey": "39e9810c-f236-473e-9aa9-22faf539062f",
        "collapsed": false,
        "requestMsgId": "84b00491-fe7c-4eb4-a168-d4a85824aa8c",
        "executionStartTime": 1634146949568,
        "executionStopTime": 1634146949611
      },
      "source": [
        "from torcharrow import me\n",
        "\n",
        "\n",
        "xf.where(me[\"B\"] > 2)\n",
        ""
      ],
      "execution_count": 39,
      "outputs": [
        {
          "output_type": "execute_result",
          "data": {
            "text/plain": "  index  A      B    C\n-------  ---  ---  ---\n      0  a      3   12\n      1  b      4   13\ndtype: Struct([Field('A', string), Field('B', int64), Field('C', int64)]), count: 2, null_count: 0"
          },
          "metadata": {
            "bento_obj_id": "139832115417728"
          },
          "execution_count": 39
        }
      ]
    },
    {
      "cell_type": "markdown",
      "metadata": {
        "originalKey": "8da066f1-f3ce-42de-950e-ad0f20f7ecaa"
      },
      "source": [
        "### Select\n",
        "\n",
        "Select is SQL's standard way to define a new set of columns. We use *positional args to keep columns and kwargs to give new bindings. Here is a typical example that keeps all of xf's columns but adds column 'D').\n",
        ""
      ]
    },
    {
      "cell_type": "code",
      "metadata": {
        "originalKey": "02412b68-43dd-4d8f-923d-12a0de572f8e",
        "code_folding": [],
        "hidden_ranges": [],
        "collapsed": false,
        "requestMsgId": "d98474a8-d115-4a90-9b1e-f29b8bdd680b",
        "executionStartTime": 1634146949620,
        "executionStopTime": 1634146949634
      },
      "source": [
        "xf.select(*xf.columns, D=me[\"B\"] + me[\"C\"])\n",
        ""
      ],
      "execution_count": 40,
      "outputs": [
        {
          "output_type": "execute_result",
          "data": {
            "text/plain": "  index  A      B    C    D\n-------  ---  ---  ---  ---\n      0  a      1   10   11\n      1  b      2   11   13\n      2  a      3   12   15\n      3  b      4   13   17\ndtype: Struct([Field('A', string), Field('B', int64), Field('C', int64), Field('D', int64)]), count: 4, null_count: 0"
          },
          "metadata": {
            "bento_obj_id": "139832115294992"
          },
          "execution_count": 40
        }
      ]
    },
    {
      "cell_type": "markdown",
      "metadata": {
        "originalKey": "1f7da523-4418-467a-9e90-fc395b7c1385"
      },
      "source": [
        "The short form of `*xf.columns` is '\\*', so `xf.select('*', D=me['B']+me['C'])` does the same."
      ]
    },
    {
      "cell_type": "markdown",
      "metadata": {
        "originalKey": "6f3773d8-4220-4beb-9321-bc423c74e5c5",
        "showInput": false,
        "code_folding": [],
        "hidden_ranges": []
      },
      "source": [
        "### Grouping, Join and Tranpose\n",
        "\n",
        "Coming soon!\n",
        ""
      ]
    },
    {
      "cell_type": "markdown",
      "metadata": {
        "originalKey": "0538bb2b-7847-47f2-a441-ac2e1abac7e5",
        "showInput": false,
        "code_folding": [],
        "hidden_ranges": []
      },
      "source": [
        "## Functional tools:  map, filter, reduce\n",
        "\n",
        "Column and dataframe pipelines support map/reduce style programming as well. We first explore column oriented operations.\n",
        "\n",
        "###  Map and its variations\n",
        "\n",
        "`map` maps values of a column according to input correspondence. The input correspondence can be given as a mapping or as a (user-defined-) function (UDF). If the mapping is a dict, then non mapped values become null.\n",
        "\n",
        "\n",
        ""
      ]
    },
    {
      "cell_type": "code",
      "metadata": {
        "originalKey": "8437438f-b5a8-4ee1-b58b-0acb697551db",
        "collapsed": false,
        "requestMsgId": "55705745-2e2b-4d2e-b81d-5b824ccaee40",
        "executionStartTime": 1634146949637,
        "executionStopTime": 1634146949652
      },
      "source": [
        "ta.column([1, 2, None, 4]).map({1: 111})\n",
        ""
      ],
      "execution_count": 41,
      "outputs": [
        {
          "output_type": "execute_result",
          "data": {
            "text/plain": "0  111\n1  None\n2  None\n3  None\ndtype: Int64(nullable=True), length: 4, null_count: 3"
          },
          "metadata": {
            "bento_obj_id": "139832115418304"
          },
          "execution_count": 41
        }
      ]
    },
    {
      "cell_type": "markdown",
      "metadata": {
        "originalKey": "f657d9fe-df05-435a-89f7-79912203b3ac"
      },
      "source": [
        "If the mapping is a defaultdict, all values will be mapped as described by the default dict."
      ]
    },
    {
      "cell_type": "code",
      "metadata": {
        "originalKey": "58664bc7-46c5-4841-8194-dd0605bad436",
        "code_folding": [],
        "hidden_ranges": [],
        "collapsed": false,
        "requestMsgId": "20f887e3-9167-4a6d-b63f-c2baa21e336c",
        "executionStartTime": 1634146949709,
        "executionStopTime": 1634146949872
      },
      "source": [
        "from collections import defaultdict\n",
        "ta.column([1, 2, None, 4]).map(defaultdict(lambda: -1, {1: 111}))\n",
        ""
      ],
      "execution_count": 42,
      "outputs": [
        {
          "output_type": "execute_result",
          "data": {
            "text/plain": "0  111\n1   -1\n2   -1\n3   -1\ndtype: Int64(nullable=True), length: 4, null_count: 0"
          },
          "metadata": {
            "bento_obj_id": "139832115473568"
          },
          "execution_count": 42
        }
      ]
    },
    {
      "cell_type": "markdown",
      "metadata": {
        "originalKey": "12ce419b-e4f6-42d5-9e71-c43fe5da6ebe",
        "showInput": false,
        "code_folding": [],
        "hidden_ranges": []
      },
      "source": [
        "**Handling null.** If the mapping is a function, then it will be applied on all values (including null), unless na_action is `'ignore'`, in which case, null values are passed through."
      ]
    },
    {
      "cell_type": "code",
      "metadata": {
        "originalKey": "857a2973-43d3-4233-85a8-4baed5989c76",
        "code_folding": [],
        "hidden_ranges": [],
        "collapsed": false,
        "requestMsgId": "0a31949a-a6f9-4e26-a09d-c30cebb1b3f6",
        "executionStartTime": 1634146949904,
        "executionStopTime": 1634146949920
      },
      "source": [
        "def add_ten(num):\n",
        "    return num + 10\n",
        "\n",
        "ta.column([1, 2, None, 4]).map(add_ten, na_action=\"ignore\")\n",
        ""
      ],
      "execution_count": 43,
      "outputs": [
        {
          "output_type": "execute_result",
          "data": {
            "text/plain": "0  11\n1  12\n2  None\n3  14\ndtype: Int64(nullable=True), length: 4, null_count: 1"
          },
          "metadata": {
            "bento_obj_id": "139832115262800"
          },
          "execution_count": 43
        }
      ]
    },
    {
      "cell_type": "markdown",
      "metadata": {
        "originalKey": "d688b34c-7b7b-4b93-bf2f-fe379bd3db89",
        "showInput": false,
        "code_folding": [],
        "hidden_ranges": []
      },
      "source": [
        "Note that `.map(add_ten, na_action=None)` would fail with a type error since `add_ten` is not defined for `None`/null. So if we wanted to pass null to `add_ten` we would have to prepare for it, maybe like so:"
      ]
    },
    {
      "cell_type": "code",
      "metadata": {
        "originalKey": "2c657ba6-07d3-4d43-8680-b331de040980",
        "collapsed": false,
        "requestMsgId": "14ae8536-781c-4b78-98c3-15a06e813abe",
        "executionStartTime": 1634146949923,
        "executionStopTime": 1634146949982
      },
      "source": [
        "def add_ten_or_0(num):\n",
        "    return 0 if num is None else num + 10\n",
        "\n",
        "\n",
        "ta.column([1, 2, None, 4]).map(add_ten_or_0, na_action=None)\n",
        ""
      ],
      "execution_count": 44,
      "outputs": [
        {
          "output_type": "execute_result",
          "data": {
            "text/plain": "0  11\n1  12\n2   0\n3  14\ndtype: Int64(nullable=True), length: 4, null_count: 0"
          },
          "metadata": {
            "bento_obj_id": "139832115261648"
          },
          "execution_count": 44
        }
      ]
    },
    {
      "cell_type": "markdown",
      "metadata": {
        "originalKey": "ef75b768-0496-4140-b50c-f73650e02cac",
        "showInput": false
      },
      "source": [
        "**Mapping to different types.** If `map` returns a column type that is different from the input column type, then `map` has to specify the returned column type. "
      ]
    },
    {
      "cell_type": "code",
      "metadata": {
        "originalKey": "43571ae6-0263-4f63-832a-bbc78a10766c",
        "collapsed": false,
        "requestMsgId": "ccc8b4b6-0b30-4d4f-991d-dcedb51ea935",
        "executionStartTime": 1634146949984,
        "executionStopTime": 1634146950043
      },
      "source": [
        "ta.column([1,2,3,4]).map(str, dtype=dt.string)"
      ],
      "execution_count": 45,
      "outputs": [
        {
          "output_type": "execute_result",
          "data": {
            "text/plain": "0  '1'\n1  '2'\n2  '3'\n3  '4'\ndtype: string, length: 4, null_count: 0, device: cpu"
          },
          "metadata": {
            "bento_obj_id": "139832115394400"
          },
          "execution_count": 45
        }
      ]
    },
    {
      "cell_type": "markdown",
      "metadata": {
        "originalKey": "e3ae4b80-95cb-4ad7-b347-0c18ab800c2c",
        "showInput": false,
        "customInput": null,
        "code_folding": [],
        "hidden_ranges": []
      },
      "source": [
        "Instead of specifying `dtype` argument, you can also rely on type annotations (both Python annotations and `dtypes` are supported):"
      ]
    },
    {
      "cell_type": "code",
      "metadata": {
        "originalKey": "281ab079-6778-42f0-aed5-e30058877226",
        "showInput": true,
        "customInput": null,
        "code_folding": [],
        "hidden_ranges": [],
        "collapsed": false,
        "requestMsgId": "b22479a2-0275-499b-a619-3728f1947ad7",
        "executionStartTime": 1634146950095,
        "executionStopTime": 1634146950217
      },
      "source": [
        "from typing import Optional\n",
        "\n",
        "\n",
        "def str_only_even(x) -> Optional[str]:\n",
        "    if x % 2 == 0:\n",
        "        return str(x)\n",
        "    return None\n",
        "\n",
        "\n",
        "ta.column([1, 2, 3, 4]).map(str_only_even)  # dt.string(nullable=True) is inferred\n",
        ""
      ],
      "execution_count": 46,
      "outputs": [
        {
          "output_type": "execute_result",
          "data": {
            "text/plain": "0  None\n1  '2'\n2  None\n3  '4'\ndtype: String(nullable=True), length: 4, null_count: 2, device: cpu"
          },
          "metadata": {
            "bento_obj_id": "139832115263184"
          },
          "execution_count": 46
        }
      ]
    },
    {
      "cell_type": "markdown",
      "metadata": {
        "originalKey": "300b9cbe-4784-4186-bdf2-60720c8a4c1c"
      },
      "source": [
        "**Map over Dataframes** Of course, `map` works over Dataframes, too. In this case the callable gets the whole row as a tuple. "
      ]
    },
    {
      "cell_type": "code",
      "metadata": {
        "originalKey": "eed4fc03-e0f5-4b71-a703-cefcf87fb194",
        "collapsed": false,
        "requestMsgId": "59bf68e3-af92-44b0-8f92-2d13b8d6943e",
        "executionStartTime": 1634146950292,
        "executionStopTime": 1634146950346
      },
      "source": [
        "def add_unary(tup):\n",
        "    return tup[0] + tup[1]\n",
        "\n",
        "\n",
        "ta.dataframe({\"a\": [1, 2, 3], \"b\": [1, 2, 3]}).map(add_unary, dtype=dt.int64)\n",
        ""
      ],
      "execution_count": 47,
      "outputs": [
        {
          "output_type": "execute_result",
          "data": {
            "text/plain": "0  2\n1  4\n2  6\ndtype: int64, length: 3, null_count: 0"
          },
          "metadata": {
            "bento_obj_id": "139832115417440"
          },
          "execution_count": 47
        }
      ]
    },
    {
      "cell_type": "markdown",
      "metadata": {
        "originalKey": "2024faea-2018-496c-9fe0-1411d5516407",
        "showInput": false,
        "code_folding": [],
        "hidden_ranges": []
      },
      "source": [
        "**Multi-parameter functions**. So far all our functions were unary functions. But `map` can be used for n-ary functions, too: simply specify the set of `columns` you want to pass to the nary function. \n",
        ""
      ]
    },
    {
      "cell_type": "code",
      "metadata": {
        "originalKey": "f8a6ada4-f661-4abf-bd63-f7d56b72921e",
        "collapsed": false,
        "requestMsgId": "5ccfdfd9-8615-4115-aa6b-50d0314a04de",
        "executionStartTime": 1634146950349,
        "executionStopTime": 1634146950401
      },
      "source": [
        "def add_binary(a, b):\n",
        "    return a + b\n",
        "\n",
        "\n",
        "ta.dataframe({\"a\": [1, 2, 3], \"b\": [\"a\", \"b\", \"c\"], \"c\": [1, 2, 3]}).map(\n",
        "    add_binary, columns=[\"a\", \"c\"], dtype=dt.int64\n",
        ")\n",
        ""
      ],
      "execution_count": 48,
      "outputs": [
        {
          "output_type": "execute_result",
          "data": {
            "text/plain": "0  2\n1  4\n2  6\ndtype: int64, length: 3, null_count: 0"
          },
          "metadata": {
            "bento_obj_id": "139832115550528"
          },
          "execution_count": 48
        }
      ]
    },
    {
      "cell_type": "markdown",
      "metadata": {
        "originalKey": "7f6c7c13-c4ec-4b84-9cc7-8cd0f4fd1e98",
        "showInput": false,
        "code_folding": [],
        "hidden_ranges": []
      },
      "source": [
        "**Multi-return functions.** Functions that return more than one column can be specified by returning a dataframe  (aka as struct column); providing the  return type is mandatory."
      ]
    },
    {
      "cell_type": "code",
      "metadata": {
        "originalKey": "2691361d-6b13-4c43-96bc-64bff55cde6a",
        "collapsed": false,
        "requestMsgId": "25604cfa-59fc-483d-96f6-641dc53daf37",
        "executionStartTime": 1634146950604,
        "executionStopTime": 1634146950694
      },
      "source": [
        "ta.dataframe({\"a\": [17, 29, 30], \"b\": [3, 5, 11]}).map(\n",
        "    divmod,\n",
        "    columns=[\"a\", \"b\"],\n",
        "    dtype=dt.Struct([dt.Field(\"quotient\", dt.int64), dt.Field(\"remainder\", dt.int64)]),\n",
        ")\n",
        ""
      ],
      "execution_count": 49,
      "outputs": [
        {
          "output_type": "execute_result",
          "data": {
            "text/plain": "  index    quotient    remainder\n-------  ----------  -----------\n      0           5            2\n      1           5            4\n      2           2            8\ndtype: Struct([Field('quotient', int64), Field('remainder', int64)]), count: 3, null_count: 0"
          },
          "metadata": {
            "bento_obj_id": "139832115497088"
          },
          "execution_count": 49
        }
      ]
    },
    {
      "cell_type": "markdown",
      "metadata": {
        "originalKey": "ffa20549-250e-4bee-9a4f-441af3033138",
        "showInput": false,
        "code_folding": [],
        "hidden_ranges": []
      },
      "source": [
        "**Functions with state**. Functions sometimes need additional precomputed state. We capture the state in a (data)class and use a method as a delegate:\n",
        " "
      ]
    },
    {
      "cell_type": "code",
      "metadata": {
        "originalKey": "c469043f-62a4-422f-8063-ce556ca75a24",
        "collapsed": false,
        "requestMsgId": "528d5103-0271-450c-a2ff-81fe85f72743",
        "executionStartTime": 1634146950743,
        "executionStopTime": 1634146950775
      },
      "source": [
        "def fib(n):\n",
        "    if n == 0:\n",
        "        return 0\n",
        "    elif n == 1 or n == 2:\n",
        "        return 1\n",
        "    else:\n",
        "        return fib(n - 1) + fib(n - 2)\n",
        "\n",
        "\n",
        "from dataclasses import dataclass\n",
        "\n",
        "\n",
        "@dataclass\n",
        "class State:\n",
        "    state: int\n",
        "\n",
        "    def __post_init__(self):\n",
        "        self.state = fib(self.state)\n",
        "\n",
        "    def add_fib(self, x):\n",
        "        return self.state + x\n",
        "\n",
        "\n",
        "m = State(10)\n",
        "ta.column([1, 2, 3]).map(m.add_fib)\n",
        ""
      ],
      "execution_count": 50,
      "outputs": [
        {
          "output_type": "execute_result",
          "data": {
            "text/plain": "0  56\n1  57\n2  58\ndtype: int64, length: 3, null_count: 0"
          },
          "metadata": {
            "bento_obj_id": "139832115457664"
          },
          "execution_count": 50
        }
      ]
    },
    {
      "cell_type": "markdown",
      "metadata": {
        "originalKey": "2d746692-bab3-466a-b705-8bd9609e2e96"
      },
      "source": [
        "TorchArrow requires that only global functions or methods on class instances can be used as user defined functions. Lambdas, which can can capture arbitrary state and are not inspectable, are not supported. "
      ]
    },
    {
      "cell_type": "markdown",
      "metadata": {
        "originalKey": "ce08440a-8e9b-4862-9c7a-0bb50145fe40",
        "showInput": false,
        "code_folding": [],
        "hidden_ranges": []
      },
      "source": [
        "### Filter\n",
        "\n",
        "`filter` takes a predicate and returns all those rows for which the predicate holds: "
      ]
    },
    {
      "cell_type": "code",
      "metadata": {
        "originalKey": "4f11fb0e-c6b1-4462-9cb2-1aeb1fa6d1cf",
        "collapsed": false,
        "requestMsgId": "55264f7b-883a-491d-9714-5ad492baffb4",
        "executionStartTime": 1634146950843,
        "executionStopTime": 1634146950885,
        "code_folding": [],
        "hidden_ranges": []
      },
      "source": [
        "ta.column([1, 2, 3, 4]).filter(lambda x: x % 2 == 1)\n",
        ""
      ],
      "execution_count": 51,
      "outputs": [
        {
          "output_type": "execute_result",
          "data": {
            "text/plain": "0  1\n1  3\ndtype: int64, length: 2, null_count: 0"
          },
          "metadata": {
            "bento_obj_id": "139832115285344"
          },
          "execution_count": 51
        }
      ]
    },
    {
      "cell_type": "markdown",
      "metadata": {
        "originalKey": "da57ba4d-f308-4387-a630-a5dc371ff0ba",
        "showInput": false,
        "customInput": null,
        "code_folding": [],
        "hidden_ranges": []
      },
      "source": [
        "Instead of the predicate you can pass an iterable of boolean of the same length as the column: "
      ]
    },
    {
      "cell_type": "code",
      "metadata": {
        "originalKey": "20556a49-36ed-42b4-b659-0f90620ff96b",
        "showInput": true,
        "customInput": null,
        "code_folding": [],
        "hidden_ranges": [],
        "collapsed": false,
        "requestMsgId": "afe252e3-2652-47e3-8ddb-234840de43cb",
        "executionStartTime": 1634146950888,
        "executionStopTime": 1634146950983
      },
      "source": [
        "ta.column([1, 2, 3, 4]).filter([True, False, True, False])\n",
        ""
      ],
      "execution_count": 52,
      "outputs": [
        {
          "output_type": "execute_result",
          "data": {
            "text/plain": "0  1\n1  3\ndtype: int64, length: 2, null_count: 0"
          },
          "metadata": {
            "bento_obj_id": "139832115263904"
          },
          "execution_count": 52
        }
      ]
    },
    {
      "cell_type": "markdown",
      "metadata": {
        "originalKey": "7dbb1763-7ec6-47b4-bea8-c60aa1185930"
      },
      "source": [
        "If the predicate is an n-ary function, use the  `columns` argument as we have seen for `map`.  "
      ]
    },
    {
      "cell_type": "markdown",
      "metadata": {
        "originalKey": "84e6b8c5-1710-4cc4-9a7d-d26a33085010"
      },
      "source": [
        "### Flatmap\n",
        "\n",
        "`flatmap` combines `map` with `filter`. Each callable can return a list of elements. If that list is empty, flatmap filters, if the returned list is a singleton, flatmap acts like map, if it returns several elements it 'explodes' the input. Here is an example: "
      ]
    },
    {
      "cell_type": "code",
      "metadata": {
        "originalKey": "aebd077f-4d6d-4f70-a5ca-74b0dd293671",
        "collapsed": false,
        "requestMsgId": "4025d1e1-a1a7-4a93-9c27-02c5a58ddbca",
        "executionStartTime": 1634146951001,
        "executionStopTime": 1634146951061,
        "code_folding": [],
        "hidden_ranges": []
      },
      "source": [
        "def selfish(words):\n",
        "    return [words, words] if len(words) >= 1 and words[0] == \"I\" else []\n",
        "\n",
        "\n",
        "sf.flatmap(selfish)\n",
        ""
      ],
      "execution_count": 53,
      "outputs": [
        {
          "output_type": "execute_result",
          "data": {
            "text/plain": "0  ['I', 'am', 'fine', 'and', 'you']\n1  ['I', 'am', 'fine', 'and', 'you']\ndtype: List(string), length: 2, null_count: 0"
          },
          "metadata": {
            "bento_obj_id": "139832115282752"
          },
          "execution_count": 53
        }
      ]
    },
    {
      "cell_type": "markdown",
      "metadata": {
        "originalKey": "986f3f7b-180d-4a04-831e-e3253ff785a2"
      },
      "source": [
        "`flatmap` has all the flexibility of `map`, i.e it can take the `ignore`, `dtype` and `column` arguments."
      ]
    },
    {
      "cell_type": "markdown",
      "metadata": {
        "originalKey": "5f05b84b-6bc6-4c2f-886d-2de035e1ffe1"
      },
      "source": [
        "### Reduce\n",
        "`reduce` is just like Python's `reduce`. Here we compute the product of a column."
      ]
    },
    {
      "cell_type": "code",
      "metadata": {
        "originalKey": "34d94c49-7288-40d0-b817-a88cc15be155",
        "collapsed": false,
        "requestMsgId": "d981d801-19d3-441c-93ac-0c17bec4b917",
        "executionStartTime": 1634146951129,
        "executionStopTime": 1634146951139
      },
      "source": [
        "import operator\n",
        "\n",
        "\n",
        "ta.column([1, 2, 3, 4]).reduce(operator.mul)\n",
        ""
      ],
      "execution_count": 54,
      "outputs": [
        {
          "output_type": "execute_result",
          "data": {
            "text/plain": "24"
          },
          "metadata": {
            "bento_obj_id": "139837951186592"
          },
          "execution_count": 54
        }
      ]
    },
    {
      "cell_type": "markdown",
      "metadata": {
        "originalKey": "08448f12-5eae-4fe4-816a-a54aa939bbd3",
        "showInput": false,
        "customInput": null,
        "code_folding": [],
        "hidden_ranges": []
      },
      "source": [
        "## Batch Transform\n",
        ""
      ]
    },
    {
      "cell_type": "markdown",
      "metadata": {
        "originalKey": "463dc9a5-2789-4543-9c87-8f20eb678406",
        "showInput": false,
        "customInput": null,
        "code_folding": [],
        "hidden_ranges": []
      },
      "source": [
        "Batch `transform` is simliar to `map`, except the functions takes batch input/output (represented by a Python list, PyTorch tensors, etc)."
      ]
    },
    {
      "cell_type": "code",
      "metadata": {
        "originalKey": "9d8c9a7a-3080-4d84-8c32-8e5aeffeea81",
        "showInput": true,
        "customInput": null,
        "code_folding": [],
        "hidden_ranges": [],
        "collapsed": false,
        "requestMsgId": "358cddd4-0a92-43dd-85ff-988fbc08ec5b",
        "executionStartTime": 1634146951181,
        "executionStopTime": 1634146951408
      },
      "source": [
        "from typing import List\n",
        "\n",
        "\n",
        "def multiple_ten(val: List[int]) -> List[int]:\n",
        "    return [x * 10 for x in val]\n",
        "\n",
        "\n",
        "ta.column([1, 2, 3, 4]).transform(multiple_ten, format=\"python\")\n",
        ""
      ],
      "execution_count": 55,
      "outputs": [
        {
          "output_type": "execute_result",
          "data": {
            "text/plain": "0  10\n1  20\n2  30\n3  40\ndtype: int64, length: 4, null_count: 0"
          },
          "metadata": {
            "bento_obj_id": "139832116064464"
          },
          "execution_count": 55
        }
      ]
    },
    {
      "cell_type": "code",
      "metadata": {
        "originalKey": "07bc1cd8-7961-4ec6-8fbd-5b097b7f6bd3",
        "code_folding": [],
        "hidden_ranges": [],
        "collapsed": false,
        "requestMsgId": "407ba4c6-3593-4c94-b175-e7740d54cd3c",
        "executionStartTime": 1634146951652,
        "executionStopTime": 1634146951684
      },
      "source": [
        "\"End of tutorial\"\n",
        ""
      ],
      "execution_count": 56,
      "outputs": [
        {
          "output_type": "execute_result",
          "data": {
            "text/plain": "'End of tutorial'"
          },
          "metadata": {
            "bento_obj_id": "139832115157680"
          },
          "execution_count": 56
        }
      ]
    }
  ]
}
