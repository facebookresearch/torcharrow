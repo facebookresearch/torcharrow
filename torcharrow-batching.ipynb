{
 "metadata": {
  "language_info": {
   "codemirror_mode": {
    "name": "ipython",
    "version": 3
   },
   "file_extension": ".py",
   "mimetype": "text/x-python",
   "name": "python",
   "nbconvert_exporter": "python",
   "pygments_lexer": "ipython3",
   "version": "3.8.5"
  },
  "orig_nbformat": 2,
  "kernelspec": {
   "name": "python385jvsc74a57bd056f626f2aa31d1996176a2034a75bfff22e4b2d79ede5b92d2ea330b3279997c",
   "display_name": "Python 3.8.5 64-bit ('base': conda)"
  }
 },
 "nbformat": 4,
 "nbformat_minor": 2,
 "cells": [
  {
   "source": [
    "# RFC: Torcharrow batching\n",
    "\n",
    "## Basics\n",
    "\n",
    "Torcharrow supports batching by simply adding a `df.batch(n)` call returning an iterator which successively returns `df[0:n]`, then `df[n:2*n]`, etc. The static method `unbatch` is its inverse; it takes an iterator of columns or dataframes and reassembles it as whole."
   ],
   "cell_type": "markdown",
   "metadata": {}
  },
  {
   "cell_type": "code",
   "execution_count": 1,
   "metadata": {},
   "outputs": [
    {
     "output_type": "stream",
     "name": "stdout",
     "text": [
      "Original: Column([1, 2, 3, 4, 5, 6, 7], id = c0)\n\nBatch: Column([1, 2], id = c1)\nBatch: Column([3, 4], id = c2)\nBatch: Column([5, 6], id = c3)\nBatch: Column([7], id = c4)\n\nReassembled original: Column([1, 2, 3, 4, 5, 6, 7], id = c9)\n"
     ]
    }
   ],
   "source": [
    "import torcharrow as T\n",
    "\n",
    "c = T.Column([1,2,3,4,5,6,7])\n",
    "print(\"Original:\", str(c))\n",
    "print()\n",
    "\n",
    "for b in c.batch(2):\n",
    "    print(\"Batch:\", b)\n",
    "\n",
    "print()\n",
    "print(\"Reassembled original:\", str(T.IColumn.unbatch(c.batch(2))))   "
   ]
  },
  {
   "source": [
    "## Leveraging Python functools \n",
    "Batching works well with Python iterators. For instance you can use all functools like map, filter reduce  with them. Below we add the batch iteration number to each row of a dataframe.\n"
   ],
   "cell_type": "markdown",
   "metadata": {}
  },
  {
   "cell_type": "code",
   "execution_count": 2,
   "metadata": {},
   "outputs": [
    {
     "output_type": "execute_result",
     "data": {
      "text/plain": [
       "['Column([1, 2], id = c11)',\n",
       " 'Column([4, 5], id = c13)',\n",
       " 'Column([7, 8], id = c15)',\n",
       " 'Column([10], id = c17)']"
      ]
     },
     "metadata": {},
     "execution_count": 2
    }
   ],
   "source": [
    "\n",
    "list(str((d+i)) for i,d in enumerate(c.batch(2)))"
   ]
  },
  {
   "source": [
    "## Leveraging Python's itertools\n",
    "\n",
    "Similarly all iteration tools work. Below we use the `takewhile` operator to collect the prefix of all batches where each batch sum is smaller 6."
   ],
   "cell_type": "markdown",
   "metadata": {}
  },
  {
   "cell_type": "code",
   "execution_count": 3,
   "metadata": {},
   "outputs": [
    {
     "output_type": "execute_result",
     "data": {
      "text/plain": [
       "['Column([1, 2], id = c18)', 'Column([3, 4], id = c19)']"
      ]
     },
     "metadata": {},
     "execution_count": 3
    }
   ],
   "source": [
    "import itertools\n",
    "\n",
    "list((str(i) for i in itertools.takewhile(lambda c: c.sum()<8, c.batch(2))))"
   ]
  }
 ]
}
