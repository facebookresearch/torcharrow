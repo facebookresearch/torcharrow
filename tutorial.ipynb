{
  "metadata": {
    "language_info": {
      "codemirror_mode": {
        "name": "ipython",
        "version": 3
      },
      "file_extension": ".py",
      "mimetype": "text/x-python",
      "name": "python",
      "nbconvert_exporter": "python",
      "pygments_lexer": "ipython3",
      "version": "3.8.5"
    },
    "orig_nbformat": 2,
    "kernelspec": {
      "name": "bento_kernel_pytorch",
      "display_name": "pytorch",
      "language": "python",
      "metadata": {
        "kernel_name": "bento_kernel_pytorch",
        "nightly_builds": true,
        "fbpkg_supported": true,
        "is_prebuilt": true
      }
    },
    "metadata": {
      "interpreter": {
        "hash": "7812ea015bdcee6f23a998adcdd2ef97c151c0c241b7b7070987d9313e41299d"
      }
    },
    "last_server_session_id": "2b839861-3e9c-4dc2-b535-72671f7645f3",
    "last_kernel_id": "119a376c-d69f-47dd-9679-89b4e1651884",
    "last_base_url": "https://devvm1776.ftw0.facebook.com:8090/",
    "last_msg_id": "2afab834-08f030350b5c636b3df82613_309"
  },
  "nbformat": 4,
  "nbformat_minor": 2,
  "cells": [
    {
      "cell_type": "markdown",
      "metadata": {
        "originalKey": "de920478-250b-4b12-a242-11405caa4bd9",
        "showInput": false,
        "code_folding": [],
        "hidden_ranges": []
      },
      "source": [
        "# TorchArrow in 10 minutes\n",
        "\n",
        "TorchArrow is a torch.Tensor-like, Pandas inspired Python DataFrame library for data preprocessing in deep learning. It supports multiple execution runtimes and Arrow as a common format.\n",
        "\n",
        "(Remark. In case the following looks familiar, it is with gratitude that portions of this tutorial were borrowed and adapted from the 10 Minutes to Pandas (and CuDF) tutorial.)\n",
        "\n",
        ""
      ]
    },
    {
      "cell_type": "markdown",
      "metadata": {
        "originalKey": "18428d35-4a98-4f68-a40b-07b8781b54e8"
      },
      "source": [
        "The TorchArrow library consists of 3 parts: \n",
        "\n",
        "  * *DTypes* define *Schema*, *Fields*, primitive and composite *Types*. \n",
        "  * *Columns* defines sequences of strongly typed data with vectorized operations.\n",
        "  * *Dataframes*  are sequences of named and typed columns of same length with relational operations.  \n",
        "\n",
        "Let's get started..."
      ]
    },
    {
      "cell_type": "code",
      "metadata": {
        "originalKey": "e0a514c3-aaa6-48c7-8630-1b1e9d202f72",
        "code_folding": [],
        "hidden_ranges": [],
        "collapsed": false,
        "requestMsgId": "54c291dd-d93e-4c16-a717-7e99d85a8c5d",
        "executionStartTime": 1633923934251,
        "executionStopTime": 1633923934268
      },
      "source": [
        "import torcharrow as ta\n",
        "import torcharrow.dtypes as dt\n",
        ""
      ],
      "execution_count": 1,
      "outputs": []
    },
    {
      "cell_type": "markdown",
      "metadata": {
        "originalKey": "eb314ef4-875e-45d2-9d24-c98dd8670dd0"
      },
      "source": [
        "## Constructing data: Columns\n",
        "\n",
        "### From Pandas to TorchArrow\n",
        "To start let's create a Panda series and a TorchArrow column and compare them:"
      ]
    },
    {
      "cell_type": "code",
      "metadata": {
        "originalKey": "ce7aef00-da2c-4ef2-a35e-9a3452fe8d80",
        "collapsed": false,
        "requestMsgId": "9e1b84a1-3ab5-4dda-8212-e75ce6ceb5ae",
        "executionStartTime": 1633923934294,
        "executionStopTime": 1633923934393,
        "code_folding": [],
        "hidden_ranges": []
      },
      "source": [
        "import pandas as pd\n",
        "\n",
        "\n",
        "pd.Series([1, 2, None, 4])\n",
        ""
      ],
      "execution_count": 2,
      "outputs": [
        {
          "output_type": "execute_result",
          "data": {
            "text/plain": "0    1.0\n1    2.0\n2    NaN\n3    4.0\ndtype: float64",
            "application/vnd.dataresource+json": {
              "schema": {
                "fields": [
                  {
                    "name": "index",
                    "type": "integer"
                  },
                  {
                    "name": "values",
                    "type": "number"
                  }
                ],
                "primaryKey": [
                  "index"
                ],
                "pandas_version": "0.20.0"
              },
              "data": [
                {
                  "index": 0,
                  "values": 1
                },
                {
                  "index": 1,
                  "values": 2
                },
                {
                  "index": 2,
                  "values": null
                },
                {
                  "index": 3,
                  "values": 4
                }
              ]
            }
          },
          "metadata": {
            "bento_obj_id": "139909878511696"
          },
          "execution_count": 2
        }
      ]
    },
    {
      "cell_type": "markdown",
      "metadata": {
        "originalKey": "54b8e395-d539-47bd-bf57-91f01cc4047d"
      },
      "source": [
        "In Pandas each Series has an index, here depicted as the first column. Note also that the inferred type is float and not int, since in Pandas None implicitly  promotes an int list to a float series."
      ]
    },
    {
      "cell_type": "markdown",
      "metadata": {
        "originalKey": "6a6f063a-7fc9-46aa-96be-9f1b82fa7d08"
      },
      "source": [
        "TorchArrow has a much more precise type system:"
      ]
    },
    {
      "cell_type": "code",
      "metadata": {
        "originalKey": "47ecc86e-b576-4f98-8395-75606033501f",
        "collapsed": false,
        "requestMsgId": "54020bc2-f84d-45da-b49b-542a1b00b9d7",
        "executionStartTime": 1633923934412,
        "executionStopTime": 1633923934428,
        "code_folding": [],
        "hidden_ranges": []
      },
      "source": [
        "s = ta.Column([1, 2, None, 4])\n",
        "s\n",
        ""
      ],
      "execution_count": 3,
      "outputs": [
        {
          "output_type": "execute_result",
          "data": {
            "text/plain": "0  1\n1  2\n2  None\n3  4\ndtype: Int64(nullable=True), length: 4, null_count: 1"
          },
          "metadata": {
            "bento_obj_id": "139909878512224"
          },
          "execution_count": 3
        }
      ]
    },
    {
      "cell_type": "markdown",
      "metadata": {
        "originalKey": "a6234907-6636-453e-828c-9598fe671c2c",
        "showInput": false,
        "code_folding": [],
        "hidden_ranges": []
      },
      "source": [
        "TorchArrow infers that that the type is `Int64(nullable=True)`. Of course, we can always get lots of more information from a column: the length, count, null_count determine the total number, the number of non-null, and the number of nulls, respectively.\n",
        "\n",
        "\n",
        ""
      ]
    },
    {
      "cell_type": "code",
      "metadata": {
        "originalKey": "488717d5-3f3d-4bca-918d-c84ecf9a4b1b",
        "code_folding": [],
        "hidden_ranges": [],
        "collapsed": false,
        "requestMsgId": "d3043e0b-711c-4f32-8a5b-26bee9964cf0",
        "executionStartTime": 1633923934453,
        "executionStopTime": 1633923934472
      },
      "source": [
        "len(s), s.count(), s.null_count()\n",
        ""
      ],
      "execution_count": 4,
      "outputs": [
        {
          "output_type": "execute_result",
          "data": {
            "text/plain": "(4, 3, 1)"
          },
          "metadata": {
            "bento_obj_id": "139910096686528"
          },
          "execution_count": 4
        }
      ]
    },
    {
      "cell_type": "markdown",
      "metadata": {
        "originalKey": "d8501490-56d4-4a90-b3d9-166659ef47dd",
        "showInput": false,
        "customInput": null,
        "code_folding": [],
        "hidden_ranges": []
      },
      "source": [
        "TorchArrow infers Python float as float32 (instead of float64). This follows PyTorch and other deep learning libraries. "
      ]
    },
    {
      "cell_type": "code",
      "metadata": {
        "originalKey": "465f1b0c-b340-4e63-851d-29f167e65504",
        "showInput": true,
        "customInput": null,
        "code_folding": [],
        "hidden_ranges": [],
        "collapsed": false,
        "requestMsgId": "6b07e30a-24ae-439b-94fe-fd76ab4678c8",
        "executionStartTime": 1633923934589,
        "executionStopTime": 1633923934607
      },
      "source": [
        "ss = ta.Column([2.718, 3.14, 42.42])\n",
        "ss\n",
        ""
      ],
      "execution_count": 5,
      "outputs": [
        {
          "output_type": "execute_result",
          "data": {
            "text/plain": "0   2.718\n1   3.14\n2  42.42\ndtype: float32, length: 3, null_count: 0"
          },
          "metadata": {
            "bento_obj_id": "139909877680880"
          },
          "execution_count": 5
        }
      ]
    },
    {
      "cell_type": "markdown",
      "metadata": {
        "originalKey": "b14fa540-149e-4c36-a3f5-6f021a80c5f0",
        "showInput": false
      },
      "source": [
        "TorchArrow supports (almost all of Arrow types), including arbitrarily nested structs, maps, lists, and fixed size lists. Here is a non-nullable column of a list of non-nullable strings of arbitrary length."
      ]
    },
    {
      "cell_type": "code",
      "metadata": {
        "originalKey": "54555153-8c73-4bac-ab4a-440ddd674e17",
        "collapsed": false,
        "requestMsgId": "0efb993b-5ab2-4fdd-934f-55a3e62e2a0e",
        "executionStartTime": 1633923934625,
        "executionStopTime": 1633923934640,
        "code_folding": [],
        "hidden_ranges": []
      },
      "source": [
        "sf = ta.Column([[\"hello\", \"world\"], [\"how\", \"are\", \"you\"]], dtype=dt.List(dt.string))\n",
        "sf.dtype\n",
        ""
      ],
      "execution_count": 6,
      "outputs": [
        {
          "output_type": "execute_result",
          "data": {
            "text/plain": "List(item_dtype=String(nullable=False), nullable=False, fixed_size=-1)"
          },
          "metadata": {
            "bento_obj_id": "139909877278512"
          },
          "execution_count": 6
        }
      ]
    },
    {
      "cell_type": "markdown",
      "metadata": {
        "originalKey": "1621bb48-3fbe-4627-8813-2eb8506c83eb"
      },
      "source": [
        "And here is a column of average climate data, one map per continent, with city as key and yearly average min and max temperature:\n",
        ""
      ]
    },
    {
      "cell_type": "code",
      "metadata": {
        "originalKey": "ff7431cb-89a3-4cfa-9820-56fe4122b1b3",
        "collapsed": false,
        "requestMsgId": "3ac685be-bb91-492b-8da3-f080d4a180bf",
        "executionStartTime": 1633923934658,
        "executionStopTime": 1633923934674,
        "code_folding": [],
        "hidden_ranges": []
      },
      "source": [
        "mf = ta.Column(\n",
        "    [\n",
        "        {\"helsinki\": [-1.3, 21.5], \"moscow\": [-4.0, 24.3]},\n",
        "        {\"algiers\": [11.2, 25.2], \"kinshasa\": [22.2, 26.8]},\n",
        "    ]\n",
        ")\n",
        "mf\n",
        ""
      ],
      "execution_count": 7,
      "outputs": [
        {
          "output_type": "execute_result",
          "data": {
            "text/plain": "0  {'helsinki': [-1.3, 21.5], 'moscow': [-4.0, 24.3]}\n1  {'algiers': [11.2, 25.2], 'kinshasa': [22.2, 26.8]}\ndtype: Map(string, List(float32)), length: 2, null_count: 0"
          },
          "metadata": {
            "bento_obj_id": "139909877277360"
          },
          "execution_count": 7
        }
      ]
    },
    {
      "cell_type": "markdown",
      "metadata": {
        "originalKey": "9a23b93c-317f-4361-af19-edd5458b05ee"
      },
      "source": [
        "### Append and concat"
      ]
    },
    {
      "cell_type": "markdown",
      "metadata": {
        "originalKey": "b067cbe1-a8d4-4009-acee-97dae85ffa81",
        "showInput": false,
        "code_folding": [],
        "hidden_ranges": []
      },
      "source": [
        "Columns are immutable. Use `append` to create a new column with a list of values appended. "
      ]
    },
    {
      "cell_type": "code",
      "metadata": {
        "originalKey": "9019133f-dc38-4091-9855-bf660e4636e6",
        "code_folding": [],
        "hidden_ranges": [],
        "collapsed": false,
        "requestMsgId": "6c4ea9f2-a5c0-4de5-ac1a-5b3d90ad1653",
        "executionStartTime": 1633923934795,
        "executionStopTime": 1633923934810
      },
      "source": [
        "sf = sf.append([[\"I\", \"am\", \"fine\", \"and\", \"you\"]])\n",
        "sf\n",
        ""
      ],
      "execution_count": 8,
      "outputs": [
        {
          "output_type": "execute_result",
          "data": {
            "text/plain": "0  ['hello', 'world']\n1  ['how', 'are', 'you']\n2  ['I', 'am', 'fine', 'and', 'you']\ndtype: List(string), length: 3, null_count: 0"
          },
          "metadata": {
            "bento_obj_id": "139909877278656"
          },
          "execution_count": 8
        }
      ]
    },
    {
      "cell_type": "markdown",
      "metadata": {
        "originalKey": "7d7a0d0d-2dce-4327-98f7-a37875e9dd07",
        "showInput": false,
        "customInput": null,
        "code_folding": [],
        "hidden_ranges": []
      },
      "source": [
        "Use `concat` to combine a list of columns."
      ]
    },
    {
      "cell_type": "code",
      "metadata": {
        "originalKey": "44469ea4-25e2-4a7c-ae67-8438d94ba76c",
        "showInput": true,
        "customInput": null,
        "code_folding": [],
        "hidden_ranges": [],
        "collapsed": false,
        "requestMsgId": "bb93ab39-bb83-489b-93a1-ca746318f955",
        "executionStartTime": 1633923934825,
        "executionStopTime": 1633923934840
      },
      "source": [
        "sf = sf.concat([ta.Column([[\"I\", \"am\", \"fine\", \"too\"]])])\n",
        "sf\n",
        ""
      ],
      "execution_count": 9,
      "outputs": [
        {
          "output_type": "execute_result",
          "data": {
            "text/plain": "0  ['hello', 'world']\n1  ['how', 'are', 'you']\n2  ['I', 'am', 'fine', 'and', 'you']\n3  ['I', 'am', 'fine', 'too']\ndtype: List(string), length: 4, null_count: 0"
          },
          "metadata": {
            "bento_obj_id": "139909877335520"
          },
          "execution_count": 9
        }
      ]
    },
    {
      "cell_type": "markdown",
      "metadata": {
        "originalKey": "808eeade-7dbb-4702-b695-354ecb9586e9",
        "showInput": false
      },
      "source": [
        "## Constructing data: Dataframes\n",
        "\n",
        "A Dataframe is just a set of named and strongly typed columns of equal length:"
      ]
    },
    {
      "cell_type": "code",
      "metadata": {
        "originalKey": "263b8b05-4e16-43c2-9045-dbb7f16464c1",
        "code_folding": [],
        "hidden_ranges": [],
        "collapsed": false,
        "requestMsgId": "5a6758e2-77ae-4c74-a771-e0221595c2b1",
        "executionStartTime": 1633923934856,
        "executionStopTime": 1633923934872
      },
      "source": [
        "df = ta.DataFrame(\n",
        "    {\"a\": list(range(7)), \"b\": list(reversed(range(7))), \"c\": list(range(7))}\n",
        ")\n",
        "df\n",
        ""
      ],
      "execution_count": 10,
      "outputs": [
        {
          "output_type": "execute_result",
          "data": {
            "text/plain": "  index    a    b    c\n-------  ---  ---  ---\n      0    0    6    0\n      1    1    5    1\n      2    2    4    2\n      3    3    3    3\n      4    4    2    4\n      5    5    1    5\n      6    6    0    6\ndtype: Struct([Field('a', int64), Field('b', int64), Field('c', int64)]), count: 7, null_count: 0"
          },
          "metadata": {
            "bento_obj_id": "139909877279952"
          },
          "execution_count": 10
        }
      ]
    },
    {
      "cell_type": "markdown",
      "metadata": {
        "originalKey": "595dabcc-1eb9-4590-99fa-589101bc2465"
      },
      "source": [
        "To access a dataframes columns write:"
      ]
    },
    {
      "cell_type": "code",
      "metadata": {
        "originalKey": "f5995657-5ae2-4741-b056-83993295114b",
        "collapsed": false,
        "requestMsgId": "13f3dc57-40b7-4227-b0d1-2bc4a74380e0",
        "executionStartTime": 1633923935006,
        "executionStopTime": 1633923935022,
        "code_folding": [],
        "hidden_ranges": []
      },
      "source": [
        "df.columns\n",
        ""
      ],
      "execution_count": 11,
      "outputs": [
        {
          "output_type": "execute_result",
          "data": {
            "text/plain": "['a', 'b', 'c']"
          },
          "metadata": {
            "bento_obj_id": "139909877348864"
          },
          "execution_count": 11
        }
      ]
    },
    {
      "cell_type": "markdown",
      "metadata": {
        "originalKey": "f14c45f1-01fb-4b18-9cb3-f86c79cc66f4",
        "showInput": false,
        "code_folding": [],
        "hidden_ranges": []
      },
      "source": [
        "Dataframes are also immutable, except you can always add a new column or overwrite an existing column. \n",
        "\n",
        "When a new column is added, it is appended to the set of existing columns at the end."
      ]
    },
    {
      "cell_type": "code",
      "metadata": {
        "originalKey": "9962ee05-cc01-4a94-ba07-6ddd2530e003",
        "collapsed": false,
        "requestMsgId": "c1412641-2ad5-464e-b755-6b70d19f277b",
        "executionStartTime": 1633923935038,
        "executionStopTime": 1633923935052,
        "code_folding": [],
        "hidden_ranges": []
      },
      "source": [
        "df[\"d\"] = ta.Column(list(range(99, 99 + 7)))\n",
        "df\n",
        ""
      ],
      "execution_count": 12,
      "outputs": [
        {
          "output_type": "execute_result",
          "data": {
            "text/plain": "  index    a    b    c    d\n-------  ---  ---  ---  ---\n      0    0    6    0   99\n      1    1    5    1  100\n      2    2    4    2  101\n      3    3    3    3  102\n      4    4    2    4  103\n      5    5    1    5  104\n      6    6    0    6  105\ndtype: Struct([Field('a', int64), Field('b', int64), Field('c', int64), Field('d', int64)]), count: 7, null_count: 0"
          },
          "metadata": {
            "bento_obj_id": "139909877279952"
          },
          "execution_count": 12
        }
      ]
    },
    {
      "cell_type": "markdown",
      "metadata": {
        "originalKey": "b6e8d894-6da1-4cd6-aeac-1c30f4c83336",
        "showInput": false,
        "customInput": null,
        "code_folding": [],
        "hidden_ranges": []
      },
      "source": [
        "You can also overwrite an existing column."
      ]
    },
    {
      "cell_type": "code",
      "metadata": {
        "originalKey": "63ae6a60-b641-4c20-aaed-b81cbcf0c368",
        "showInput": true,
        "customInput": null,
        "code_folding": [],
        "hidden_ranges": [],
        "collapsed": false,
        "requestMsgId": "37aeba5a-c94a-41b0-99b7-e1ab9319d29c",
        "executionStartTime": 1633923935069,
        "executionStopTime": 1633923935086
      },
      "source": [
        "df[\"c\"] = df[\"b\"] * 2\n",
        "df\n",
        ""
      ],
      "execution_count": 13,
      "outputs": [
        {
          "output_type": "execute_result",
          "data": {
            "text/plain": "  index    a    b    c    d\n-------  ---  ---  ---  ---\n      0    0    6   12   99\n      1    1    5   10  100\n      2    2    4    8  101\n      3    3    3    6  102\n      4    4    2    4  103\n      5    5    1    2  104\n      6    6    0    0  105\ndtype: Struct([Field('a', int64), Field('b', int64), Field('c', int64), Field('d', int64)]), count: 7, null_count: 0"
          },
          "metadata": {
            "bento_obj_id": "139909877279952"
          },
          "execution_count": 13
        }
      ]
    },
    {
      "cell_type": "markdown",
      "metadata": {
        "originalKey": "dd711517-1513-4a4c-8a8d-2c231690ec88",
        "showInput": false,
        "customInput": null,
        "code_folding": [],
        "hidden_ranges": []
      },
      "source": [
        "Similar to Column, we can also use `append` to create a new DataFrame with a listed of tuples appended."
      ]
    },
    {
      "cell_type": "code",
      "metadata": {
        "originalKey": "2f6a9393-3776-48e6-9584-0fa590dccc5d",
        "showInput": true,
        "customInput": null,
        "code_folding": [],
        "hidden_ranges": [],
        "collapsed": false,
        "requestMsgId": "0a6c7189-fce9-4699-baa2-bcfa4307e458",
        "executionStartTime": 1633923935229,
        "executionStopTime": 1633923935246
      },
      "source": [
        "df = df.append([(7, 77, 777, 7777), (8, 88, 888, 8888)])\n",
        "df\n",
        ""
      ],
      "execution_count": 14,
      "outputs": [
        {
          "output_type": "execute_result",
          "data": {
            "text/plain": "  index    a    b    c     d\n-------  ---  ---  ---  ----\n      0    0    6   12    99\n      1    1    5   10   100\n      2    2    4    8   101\n      3    3    3    6   102\n      4    4    2    4   103\n      5    5    1    2   104\n      6    6    0    0   105\n      7    7   77  777  7777\n      8    8   88  888  8888\ndtype: Struct([Field('a', int64), Field('b', int64), Field('c', int64), Field('d', int64)]), count: 9, null_count: 0"
          },
          "metadata": {
            "bento_obj_id": "139909877416672"
          },
          "execution_count": 14
        }
      ]
    },
    {
      "cell_type": "markdown",
      "metadata": {
        "originalKey": "912f4f02-4a8a-42ef-b0ca-c910df653a07"
      },
      "source": [
        "Dataframes can be nested. Here is a Dataframe having sub-dataframes. \n",
        ""
      ]
    },
    {
      "cell_type": "code",
      "metadata": {
        "originalKey": "eced179d-f5b2-47e8-83cc-308d50c22fbb",
        "code_folding": [],
        "hidden_ranges": [],
        "collapsed": false,
        "requestMsgId": "e05bddc2-f954-475a-a4dd-f3f0dc586f74",
        "executionStartTime": 1633923935266,
        "executionStopTime": 1633923935282
      },
      "source": [
        "df_inner = ta.DataFrame({\"b1\": [11, 22, 33], \"b2\": [111, 222, 333]})\n",
        "df_outer = ta.DataFrame({\"a\": [1, 2, 3], \"b\": df_inner})\n",
        "df_outer\n",
        ""
      ],
      "execution_count": 15,
      "outputs": [
        {
          "output_type": "execute_result",
          "data": {
            "text/plain": "  index    a  b\n-------  ---  ---------\n      0    1  (11, 111)\n      1    2  (22, 222)\n      2    3  (33, 333)\ndtype: Struct([Field('a', int64), Field('b', Struct([Field('b1', int64), Field('b2', int64)]))]), count: 3, null_count: 0"
          },
          "metadata": {
            "bento_obj_id": "139909877279712"
          },
          "execution_count": 15
        }
      ]
    },
    {
      "cell_type": "markdown",
      "metadata": {
        "originalKey": "d667edc3-0048-471b-a464-1818b23c0df2",
        "showInput": false,
        "customInput": null,
        "code_folding": [],
        "hidden_ranges": []
      },
      "source": [
        "## Interop\n",
        "\n",
        "Coming soon!"
      ]
    },
    {
      "cell_type": "markdown",
      "metadata": {
        "originalKey": "0b50a2b1-68d0-4516-ab0c-30f21b7602c8",
        "showInput": false
      },
      "source": [
        "## Viewing (sorted) data\n",
        "\n",
        "Take the the top n rows"
      ]
    },
    {
      "cell_type": "code",
      "metadata": {
        "originalKey": "3180fca1-a87b-4fb9-bb7f-860b18a0c99a",
        "collapsed": false,
        "requestMsgId": "378849a0-1cb0-4cab-b9cc-536b0a4173e4",
        "executionStartTime": 1633923935298,
        "executionStopTime": 1633923935312
      },
      "source": [
        "df.head(2)\n",
        ""
      ],
      "execution_count": 16,
      "outputs": [
        {
          "output_type": "execute_result",
          "data": {
            "text/plain": "  index    a    b    c    d\n-------  ---  ---  ---  ---\n      0    0    6   12   99\n      1    1    5   10  100\ndtype: Struct([Field('a', int64), Field('b', int64), Field('c', int64), Field('d', int64)]), count: 2, null_count: 0"
          },
          "metadata": {
            "bento_obj_id": "139909877335808"
          },
          "execution_count": 16
        }
      ]
    },
    {
      "cell_type": "markdown",
      "metadata": {
        "originalKey": "e5eb2d07-7f6b-4375-8a29-d10b84846eb2"
      },
      "source": [
        "Or return the last n rows"
      ]
    },
    {
      "cell_type": "code",
      "metadata": {
        "originalKey": "dfecd6ab-dbb1-4b00-9bea-bb7411fd2a1c",
        "collapsed": false,
        "requestMsgId": "15197fc3-0872-44de-baa7-6497d362619a",
        "executionStartTime": 1633923935413,
        "executionStopTime": 1633923935427
      },
      "source": [
        "df.tail(1)\n",
        ""
      ],
      "execution_count": 17,
      "outputs": [
        {
          "output_type": "execute_result",
          "data": {
            "text/plain": "  index    a    b    c     d\n-------  ---  ---  ---  ----\n      0    8   88  888  8888\ndtype: Struct([Field('a', int64), Field('b', int64), Field('c', int64), Field('d', int64)]), count: 1, null_count: 0"
          },
          "metadata": {
            "bento_obj_id": "139909877371808"
          },
          "execution_count": 17
        }
      ]
    },
    {
      "cell_type": "markdown",
      "metadata": {
        "originalKey": "dacc1b8f-c0fe-477e-90be-8b6dd2f10fc8"
      },
      "source": [
        "or sort the values before hand."
      ]
    },
    {
      "cell_type": "code",
      "metadata": {
        "originalKey": "76772c2e-85eb-464f-9b7d-ff647c7d5915",
        "collapsed": false,
        "requestMsgId": "c6b1276c-29eb-424b-ba10-83d8fc50bcd1",
        "executionStartTime": 1633923935439,
        "executionStopTime": 1633923935451
      },
      "source": [
        "df.sort(by=[\"c\", \"b\"]).head(2)\n",
        ""
      ],
      "execution_count": 18,
      "outputs": [
        {
          "output_type": "execute_result",
          "data": {
            "text/plain": "  index    a    b    c    d\n-------  ---  ---  ---  ---\n      0    6    0    0  105\n      1    5    1    2  104\ndtype: Struct([Field('a', int64), Field('b', int64), Field('c', int64), Field('d', int64)]), count: 2, null_count: 0"
          },
          "metadata": {
            "bento_obj_id": "139909877492368"
          },
          "execution_count": 18
        }
      ]
    },
    {
      "cell_type": "markdown",
      "metadata": {
        "originalKey": "8ec79f6c-5693-4b3e-9680-0b98a21c8372"
      },
      "source": [
        "Sorting can be controlled not only by which columns to sort on, but also whether to sort ascending or descending, and how to deal with nulls, are they listed first or last.  \n",
        "\n",
        "## Selection using Indices\n",
        "\n",
        "Torcharrow supports two indices:\n",
        " - Integer indices select rows\n",
        " - String indices select columns\n",
        "\n",
        "So projecting a single column of a dataframe is simply"
      ]
    },
    {
      "cell_type": "code",
      "metadata": {
        "originalKey": "c5b04b10-17a3-470d-8305-fbfaa9ecff07",
        "collapsed": false,
        "requestMsgId": "4a62c0c1-21cc-42c7-9308-35061a6a5a59",
        "executionStartTime": 1633923935467,
        "executionStopTime": 1633923935481
      },
      "source": [
        "df['a']"
      ],
      "execution_count": 19,
      "outputs": [
        {
          "output_type": "execute_result",
          "data": {
            "text/plain": "0  0\n1  1\n2  2\n3  3\n4  4\n5  5\n6  6\n7  7\n8  8\ndtype: int64, length: 9, null_count: 0"
          },
          "metadata": {
            "bento_obj_id": "139909877372000"
          },
          "execution_count": 19
        }
      ]
    },
    {
      "cell_type": "markdown",
      "metadata": {
        "originalKey": "8899b936-10e4-4885-81ea-5c2f44edd446",
        "showInput": false,
        "code_folding": [],
        "hidden_ranges": []
      },
      "source": [
        "Selecting a single row uses an integer index. (In TorchArrow everything is zero-based.)"
      ]
    },
    {
      "cell_type": "code",
      "metadata": {
        "originalKey": "61f580f0-e2e8-419d-9508-9a40d32215bf",
        "collapsed": false,
        "requestMsgId": "6763365f-2180-4b24-ac99-e2fa23c99810",
        "executionStartTime": 1633923935495,
        "executionStopTime": 1633923935508
      },
      "source": [
        "df[1]"
      ],
      "execution_count": 20,
      "outputs": [
        {
          "output_type": "execute_result",
          "data": {
            "text/plain": "(1, 5, 10, 100)"
          },
          "metadata": {
            "bento_obj_id": "139909877482896"
          },
          "execution_count": 20
        }
      ]
    },
    {
      "cell_type": "markdown",
      "metadata": {
        "originalKey": "f25294d0-911b-495a-ab5c-ed016ca3c0d0"
      },
      "source": [
        "Selecting a slice keeps the type alive. Here we slice rows:\n",
        ""
      ]
    },
    {
      "cell_type": "code",
      "metadata": {
        "originalKey": "5b049bc4-a5c5-46c3-ac2e-d742ea303c47",
        "collapsed": false,
        "requestMsgId": "d223ec87-d9b3-4584-ab3d-ff6ba607db73",
        "executionStartTime": 1633923935598,
        "executionStopTime": 1633923935613
      },
      "source": [
        "df[2:6:2]"
      ],
      "execution_count": 21,
      "outputs": [
        {
          "output_type": "execute_result",
          "data": {
            "text/plain": "  index    a    b    c    d\n-------  ---  ---  ---  ---\n      0    2    4    8  101\n      1    4    2    4  103\ndtype: Struct([Field('a', int64), Field('b', int64), Field('c', int64), Field('d', int64)]), count: 2, null_count: 0"
          },
          "metadata": {
            "bento_obj_id": "139909877520704"
          },
          "execution_count": 21
        }
      ]
    },
    {
      "cell_type": "markdown",
      "metadata": {
        "originalKey": "2cdad5d9-98c1-4a31-a58d-e462d577400b"
      },
      "source": [
        "But you can also slice columns. The below return all columns after and including 'c'."
      ]
    },
    {
      "cell_type": "code",
      "metadata": {
        "originalKey": "6a861bb3-957b-4d7c-919b-e14782a3afcd",
        "collapsed": false,
        "requestMsgId": "91947216-3bd1-40b4-b4aa-16bf6b5913b8",
        "executionStartTime": 1633923935628,
        "executionStopTime": 1633923935643
      },
      "source": [
        "df['c':]"
      ],
      "execution_count": 22,
      "outputs": [
        {
          "output_type": "execute_result",
          "data": {
            "text/plain": "  index    c     d\n-------  ---  ----\n      0   12    99\n      1   10   100\n      2    8   101\n      3    6   102\n      4    4   103\n      5    2   104\n      6    0   105\n      7  777  7777\n      8  888  8888\ndtype: Struct([Field('c', int64), Field('d', int64)]), count: 9, null_count: 0"
          },
          "metadata": {
            "bento_obj_id": "139909877166816"
          },
          "execution_count": 22
        }
      ]
    },
    {
      "cell_type": "markdown",
      "metadata": {
        "originalKey": "cdfb2799-6f0b-4899-acfa-39bf021d3dee",
        "showInput": false,
        "code_folding": [],
        "hidden_ranges": []
      },
      "source": [
        "TorchArrow follows the normal Python semantics for slices: that is a slice interval is closed on the left and open on the right."
      ]
    },
    {
      "cell_type": "markdown",
      "metadata": {
        "originalKey": "24dd7963-45b6-4c85-8f1d-c42ae7c2e258"
      },
      "source": [
        "## Selection by Condition\n",
        "\n",
        "Selection of a column or dataframe *c* by a condition takes a boolean column *b* of the same length as *c*. If the *i*th row in *b* is true, *c*'s *i*th row is included in the result otherwise it is dropped. Below expression selects the first row, since it is true, and drops all remaining rows, since they are false.\n",
        "\n",
        ""
      ]
    },
    {
      "cell_type": "code",
      "metadata": {
        "originalKey": "4c2a91af-3fb0-49f5-aa53-43355c2cc87f",
        "collapsed": false,
        "requestMsgId": "5e45e7fb-ddbe-486e-b124-582d3be9ac8b",
        "executionStartTime": 1633923935660,
        "executionStopTime": 1633923935676
      },
      "source": [
        "df[[True] + [False] * (len(df)-1)]"
      ],
      "execution_count": 23,
      "outputs": [
        {
          "output_type": "execute_result",
          "data": {
            "text/plain": "  index    a    b    c    d\n-------  ---  ---  ---  ---\n      0    0    6   12   99\ndtype: Struct([Field('a', int64), Field('b', int64), Field('c', int64), Field('d', int64)]), count: 1, null_count: 0"
          },
          "metadata": {
            "bento_obj_id": "139909877453488"
          },
          "execution_count": 23
        }
      ]
    },
    {
      "cell_type": "markdown",
      "metadata": {
        "originalKey": "741e0d7e-9fe6-4d57-986c-8c3066bbfd57"
      },
      "source": [
        "Conditional expressions over vectors return boolean vectors. Conditionals are thus the usual way to write filters. "
      ]
    },
    {
      "cell_type": "code",
      "metadata": {
        "originalKey": "6117294f-8e12-4082-b891-9f56b0130d90",
        "collapsed": false,
        "requestMsgId": "294dc578-4274-472d-9519-b23eb6be7789",
        "executionStartTime": 1633923935688,
        "executionStopTime": 1633923935760
      },
      "source": [
        "b = df['a'] > 4\n",
        "df[b]"
      ],
      "execution_count": 24,
      "outputs": [
        {
          "output_type": "execute_result",
          "data": {
            "text/plain": "  index    a    b    c     d\n-------  ---  ---  ---  ----\n      0    5    1    2   104\n      1    6    0    0   105\n      2    7   77  777  7777\n      3    8   88  888  8888\ndtype: Struct([Field('a', int64), Field('b', int64), Field('c', int64), Field('d', int64)]), count: 4, null_count: 0"
          },
          "metadata": {
            "bento_obj_id": "139910096710912"
          },
          "execution_count": 24
        }
      ]
    },
    {
      "cell_type": "markdown",
      "metadata": {
        "originalKey": "ad871c8f-a6f5-4d4a-baae-8d98ea4236ba"
      },
      "source": [
        "Torcharrow supports all the usual predicates, like <,==,!=>,>=,<= as well as _in_. The later is denoted by `isin`\n",
        ""
      ]
    },
    {
      "cell_type": "code",
      "metadata": {
        "originalKey": "35960d05-d085-4a7a-8090-ab5647afe6b0",
        "collapsed": false,
        "requestMsgId": "9dcdd8dc-681f-4eba-9e3d-841a9aaa8c19",
        "executionStartTime": 1633923935775,
        "executionStopTime": 1633923935788
      },
      "source": [
        "df[df['a'].isin([5])]"
      ],
      "execution_count": 25,
      "outputs": [
        {
          "output_type": "execute_result",
          "data": {
            "text/plain": "  index    a    b    c    d\n-------  ---  ---  ---  ---\n      0    5    1    2  104\ndtype: Struct([Field('a', int64), Field('b', int64), Field('c', int64), Field('d', int64)]), count: 1, null_count: 0"
          },
          "metadata": {
            "bento_obj_id": "139909877419024"
          },
          "execution_count": 25
        }
      ]
    },
    {
      "cell_type": "markdown",
      "metadata": {
        "originalKey": "151289d0-a88b-42d4-b690-27955e015d74"
      },
      "source": [
        "## Missing data\n",
        " Missing data can be filled in via the `fillna` method "
      ]
    },
    {
      "cell_type": "code",
      "metadata": {
        "originalKey": "7ab6cd8d-f29a-4534-998a-9140f4f0b561",
        "collapsed": false,
        "requestMsgId": "b7d5730f-de70-4af7-b15b-0144bacb1109",
        "executionStartTime": 1633923935804,
        "executionStopTime": 1633923935816
      },
      "source": [
        "t = s.fillna(999)\n",
        "t"
      ],
      "execution_count": 26,
      "outputs": [
        {
          "output_type": "execute_result",
          "data": {
            "text/plain": "0    1\n1    2\n2  999\n3    4\ndtype: int64, length: 4, null_count: 0"
          },
          "metadata": {
            "bento_obj_id": "139909877418112"
          },
          "execution_count": 26
        }
      ]
    },
    {
      "cell_type": "markdown",
      "metadata": {
        "originalKey": "f7258ca6-c91f-4865-8e08-828b597224d2"
      },
      "source": [
        "Alternatively data that has null data can be dropped:"
      ]
    },
    {
      "cell_type": "code",
      "metadata": {
        "originalKey": "3e218b0c-52b6-4649-8536-8082d3f9b88a",
        "collapsed": false,
        "requestMsgId": "c9bc1635-d4f0-46e7-a4b8-d8a73db535d2",
        "executionStartTime": 1633923935830,
        "executionStopTime": 1633923935842
      },
      "source": [
        "s.dropna()"
      ],
      "execution_count": 27,
      "outputs": [
        {
          "output_type": "execute_result",
          "data": {
            "text/plain": "0  1\n1  2\n2  4\ndtype: int64, length: 3, null_count: 0"
          },
          "metadata": {
            "bento_obj_id": "139909877278464"
          },
          "execution_count": 27
        }
      ]
    },
    {
      "cell_type": "markdown",
      "metadata": {
        "originalKey": "d4d441e2-0db2-40d6-9ecf-723435759d64"
      },
      "source": [
        "## Operators\n",
        "Columns and dataframes support all of Python's usual binary operators, like  ==,!=,<=,<,>,>= for equality  and comparison,  +,-,*,,/.//,** for performing arithmetic and &,|,~ for conjunction, disjunction and negation. \n",
        "\n",
        "The semantics of each operator is given by lifting their scalar operation to vectors and dataframes. So given for instance a scalar comparison operator, in TorchArrow a scalar can be compared to each item in a column, two columns can be compared pointwise, a column can be compared to each column of a dataframe, and two dataframes can be compared by comparing each of their respective columns. \n",
        "\n",
        "Here are some example expressions:"
      ]
    },
    {
      "cell_type": "code",
      "metadata": {
        "originalKey": "c306e2f1-eda0-4028-9554-a23fad1a3c14",
        "collapsed": false,
        "requestMsgId": "cb5b53a9-8dbc-40e3-9a39-24b8ba5a4b55",
        "executionStartTime": 1633923935852,
        "executionStopTime": 1633923935927
      },
      "source": [
        "u = ta.Column(list(range(5)))\n",
        "v = -u\n",
        "w = v+1\n",
        "v*w"
      ],
      "execution_count": 28,
      "outputs": [
        {
          "output_type": "execute_result",
          "data": {
            "text/plain": "0   0\n1   0\n2   2\n3   6\n4  12\ndtype: int64, length: 5, null_count: 0"
          },
          "metadata": {
            "bento_obj_id": "139909877681264"
          },
          "execution_count": 28
        }
      ]
    },
    {
      "cell_type": "code",
      "metadata": {
        "originalKey": "f360a49e-69fc-4aee-b44f-1f3c5cdf228e",
        "collapsed": false,
        "requestMsgId": "21b2d563-f0a8-4da4-a510-7302ec68a802",
        "executionStartTime": 1633923935938,
        "executionStopTime": 1633923935951
      },
      "source": [
        "uv = ta.DataFrame({\"a\": u, \"b\": v})\n",
        "uu = ta.DataFrame({\"a\": u, \"b\": u})\n",
        "(uv == uu)\n",
        ""
      ],
      "execution_count": 29,
      "outputs": [
        {
          "output_type": "execute_result",
          "data": {
            "text/plain": "  index    a    b\n-------  ---  ---\n      0    1    1\n      1    1    0\n      2    1    0\n      3    1    0\n      4    1    0\ndtype: Struct([Field('a', boolean), Field('b', boolean)]), count: 5, null_count: 0"
          },
          "metadata": {
            "bento_obj_id": "139909877491312"
          },
          "execution_count": 29
        }
      ]
    },
    {
      "cell_type": "markdown",
      "metadata": {
        "originalKey": "5388b2e8-4c78-418a-817b-52b25f0c7ce5"
      },
      "source": [
        "## Null strictness\n",
        "\n",
        "The default behavior of torcharrow operators and functions is that *if any argument is null then the result is null*. For instance:"
      ]
    },
    {
      "cell_type": "code",
      "metadata": {
        "originalKey": "584b249b-fc70-408e-a1a4-75fd1ab52175",
        "collapsed": false,
        "requestMsgId": "637d3011-e7ce-421a-a633-b33f14ec52b4",
        "executionStartTime": 1633923935969,
        "executionStopTime": 1633923935984
      },
      "source": [
        "u = ta.Column([1, None, 3])\n",
        "v = ta.Column([11, None, None])\n",
        "u + v\n",
        ""
      ],
      "execution_count": 30,
      "outputs": [
        {
          "output_type": "execute_result",
          "data": {
            "text/plain": "0  12\n1  None\n2  None\ndtype: Int64(nullable=True), length: 3, null_count: 2"
          },
          "metadata": {
            "bento_obj_id": "139909877008608"
          },
          "execution_count": 30
        }
      ]
    },
    {
      "cell_type": "markdown",
      "metadata": {
        "originalKey": "b09012bd-a977-4078-b10c-631bad0e7c26",
        "showInput": false,
        "code_folding": [],
        "hidden_ranges": []
      },
      "source": [
        "If null strictness does not work for your code you could call first `fillna` to provide a value that is used instead of null. "
      ]
    },
    {
      "cell_type": "markdown",
      "metadata": {
        "originalKey": "660ccce0-1eb4-409e-ab7f-24864a57425a"
      },
      "source": [
        "## Numerical columns and descriptive statistics\n",
        "Numerical columns also support lifted operations, for `abs`, `ceil`, `floor`, `round`. Even more excited might be to use their aggregation operators like `count`, `sum`, `prod`, `min`, `max`, or descriptive statistics like `std`, `mean`, `median`, and `mode`. Here is an example ensemble:\n",
        ""
      ]
    },
    {
      "cell_type": "code",
      "metadata": {
        "originalKey": "35e23de6-bdcc-4a13-98e8-20c63a1c9ec9",
        "collapsed": false,
        "requestMsgId": "b2c8ed55-4c57-4a16-8e30-e29ea873a966",
        "executionStartTime": 1633923935996,
        "executionStopTime": 1633923936008
      },
      "source": [
        "(t.min(), t.max(), t.sum(), t.mean())\n",
        ""
      ],
      "execution_count": 31,
      "outputs": [
        {
          "output_type": "execute_result",
          "data": {
            "text/plain": "(1, 999, 1006, 251.5)"
          },
          "metadata": {
            "bento_obj_id": "139909877749776"
          },
          "execution_count": 31
        }
      ]
    },
    {
      "cell_type": "markdown",
      "metadata": {
        "originalKey": "64c34ed8-3683-40f0-914f-1328ec1ffd97"
      },
      "source": [
        "The `describe` method puts this nicely together: "
      ]
    },
    {
      "cell_type": "code",
      "metadata": {
        "originalKey": "c54d0d1c-33ec-4ed2-b73f-1357ab235bf7",
        "collapsed": false,
        "requestMsgId": "ea6b7723-d9b4-458c-a079-3cb0122a9ab0",
        "executionStartTime": 1633923936100,
        "executionStopTime": 1633923936136
      },
      "source": [
        "t.describe()\n",
        ""
      ],
      "execution_count": 32,
      "outputs": [
        {
          "output_type": "execute_result",
          "data": {
            "text/plain": "  index  statistic      value\n-------  -----------  -------\n      0  count          4\n      1  mean         251.5\n      2  std          498.335\n      3  min            1\n      4  25%            1.5\n      5  50%            3\n      6  75%          501.5\n      7  max          999\ndtype: Struct([Field('statistic', string), Field('value', float64)]), count: 8, null_count: 0"
          },
          "metadata": {
            "bento_obj_id": "139910096711296"
          },
          "execution_count": 32
        }
      ]
    },
    {
      "cell_type": "markdown",
      "metadata": {
        "originalKey": "3db1e981-0f8c-4fc3-a694-642423b00a3f"
      },
      "source": [
        "Sum, prod, min and max are also available as accumulating operators called `cumsum`, `cumprod`, etc. \n",
        "\n",
        "Boolean vectors are very similar to numerical vector. They offer the aggregation operators `any` and `all`. "
      ]
    },
    {
      "cell_type": "markdown",
      "metadata": {
        "originalKey": "bfce4837-ab8f-4c8a-8373-c1e8c8191eaf"
      },
      "source": [
        "## String, list and map methods\n",
        "Torcharrow provides all of Python's string, list and map processing methods, just lifted to work over columns. Like in Pandas they are all accessible via the `str`, `list` and `map` property, respectively.\n",
        "\n",
        "### Strings\n",
        "Let's capitalize a column of strings.\n",
        ""
      ]
    },
    {
      "cell_type": "code",
      "metadata": {
        "originalKey": "720ca841-ca65-4a9c-8f8f-0b0acdcf5579",
        "collapsed": false,
        "requestMsgId": "19f3e0a2-2d35-49db-b5b3-cd71d160231f",
        "executionStartTime": 1633923936151,
        "executionStopTime": 1633923936163
      },
      "source": [
        "s = ta.Column([\"what a wonderful world!\", \"really?\"])\n",
        "s.str.capitalize()\n",
        ""
      ],
      "execution_count": 33,
      "outputs": [
        {
          "output_type": "execute_result",
          "data": {
            "text/plain": "0  'What a wonderful world!'\n1  'Really?'\ndtype: string, length: 2, null_count: 0"
          },
          "metadata": {
            "bento_obj_id": "139909877009184"
          },
          "execution_count": 33
        }
      ]
    },
    {
      "cell_type": "markdown",
      "metadata": {
        "originalKey": "a0dfc3d0-8631-46b5-8522-15e49ae5d99a"
      },
      "source": [
        "Split is more involved. We have to decide whether a string gets split into a list of strings or into spread over a set of columns. So split gets an extra parameter called expand: the default is that expand=False, in which case split return a list column, if expand=True split return a list of columns as a dataframe:"
      ]
    },
    {
      "cell_type": "code",
      "metadata": {
        "originalKey": "0c47506e-8c43-4350-914a-c57db5a92d77",
        "collapsed": false,
        "requestMsgId": "e6ea5e21-3fb9-4182-ac04-d684ed885f3f",
        "executionStartTime": 1633923936176,
        "executionStopTime": 1633923936187
      },
      "source": [
        "ss = s.str.split(sep=\" \")\n",
        "ss\n",
        ""
      ],
      "execution_count": 34,
      "outputs": [
        {
          "output_type": "execute_result",
          "data": {
            "text/plain": "0  ['what', 'a', 'wonderful', 'world!']\n1  ['really?']\ndtype: List(string), length: 2, null_count: 0"
          },
          "metadata": {
            "bento_obj_id": "139909877006976"
          },
          "execution_count": 34
        }
      ]
    },
    {
      "cell_type": "code",
      "metadata": {
        "originalKey": "61ed600b-9e38-408b-a744-600081644519",
        "collapsed": false,
        "requestMsgId": "54ac3851-eb97-436d-89a3-97493dc4d455",
        "executionStartTime": 1633923936198,
        "executionStopTime": 1633923936262
      },
      "source": [
        "cs = s.str.split(sep=\" \", expand=True, maxsplit=2)\n",
        "cs\n",
        ""
      ],
      "execution_count": 35,
      "outputs": [
        {
          "output_type": "execute_result",
          "data": {
            "text/plain": "  index  0        1    2\n-------  -------  ---  ----------------\n      0  what     a    wonderful world!\n      1  really?\ndtype: Struct([Field('0', String(nullable=True)), Field('1', String(nullable=True)), Field('2', String(nullable=True))]), count: 2, null_count: 0"
          },
          "metadata": {
            "bento_obj_id": "139909877084848"
          },
          "execution_count": 35
        }
      ]
    },
    {
      "cell_type": "markdown",
      "metadata": {
        "originalKey": "9e2c7d1b-945d-4d87-b27f-98db56de33b4"
      },
      "source": [
        "### Lists\n",
        "\n",
        "To operate on a list column use the usual pure list operations, like `len(gth)`, `slice`, `index` and `count`, etc. But there are a couple of additional operations. \n",
        "\n",
        "For instance to invert the result of a string split operation a list of string column also offers a join operation. \n",
        ""
      ]
    },
    {
      "cell_type": "code",
      "metadata": {
        "originalKey": "e1ed5360-1fc0-4002-9fd8-d18a739f45ba",
        "collapsed": false,
        "requestMsgId": "b62c6b6c-5900-4629-b73a-1a56354ab71c",
        "executionStartTime": 1633923936273,
        "executionStopTime": 1633923936283
      },
      "source": [
        "ss.list.join(sep=\"-\")\n",
        ""
      ],
      "execution_count": 36,
      "outputs": [
        {
          "output_type": "execute_result",
          "data": {
            "text/plain": "0  'what-a-wonderful-world!'\n1  'really?'\ndtype: string, length: 2, null_count: 0"
          },
          "metadata": {
            "bento_obj_id": "139909877086384"
          },
          "execution_count": 36
        }
      ]
    },
    {
      "cell_type": "markdown",
      "metadata": {
        "originalKey": "bdd1284c-e3e5-47f2-90e0-7d4ce56157d3",
        "showInput": false,
        "code_folding": [],
        "hidden_ranges": []
      },
      "source": [
        "In addition lists provide `filter`, `map`, `flatmap` and `reduce` operators, which we will discuss as in more details in functional tools.\n",
        "\n",
        "### Maps\n",
        "\n",
        "Column of type map provide the usual map operations like `len(gth)`, `[]`, `keys` and `values`. Keys and values both return a list column. Key and value columns can be reassembled by calling `mapsto`."
      ]
    },
    {
      "cell_type": "code",
      "metadata": {
        "originalKey": "f67591a7-3a1c-458c-98ba-5d4ebf1f80f8",
        "collapsed": false,
        "requestMsgId": "0a55164d-c3e6-47e7-9f13-e5411bbf376e",
        "executionStartTime": 1633923936295,
        "executionStopTime": 1633923936306,
        "code_folding": [],
        "hidden_ranges": []
      },
      "source": [
        "mf.maps.keys()\n",
        ""
      ],
      "execution_count": 37,
      "outputs": [
        {
          "output_type": "execute_result",
          "data": {
            "text/plain": "0  ['helsinki', 'moscow']\n1  ['algiers', 'kinshasa']\ndtype: List(string), length: 2, null_count: 0"
          },
          "metadata": {
            "bento_obj_id": "139909878512608"
          },
          "execution_count": 37
        }
      ]
    },
    {
      "cell_type": "markdown",
      "metadata": {
        "originalKey": "bf979643-c00b-48ed-b000-6e541800c14f",
        "showInput": false,
        "code_folding": [],
        "hidden_ranges": []
      },
      "source": [
        "## Relational tools: Where, select, groupby, join, etc.\n",
        " \n",
        "TorchArrow also plans to support all relational operators on DataFrame. The following sections discuss what exists today.\n",
        "\n",
        "### Where\n",
        "The simplest operator is `df.where(p)` which is just another way of writing `df[p]`. (Note: TorchArrow's `where`  is not Pandas' `where`, the latter is a vectorized if-then-else which we call in Torcharrow `ite`.)"
      ]
    },
    {
      "cell_type": "code",
      "metadata": {
        "originalKey": "1431a9b4-a662-4d67-b4b5-37d1ae95de19",
        "collapsed": false,
        "requestMsgId": "533629f2-f313-433d-bef6-75e63a104b91",
        "executionStartTime": 1633923936317,
        "executionStopTime": 1633923936329
      },
      "source": [
        "xf = ta.DataFrame({\"A\": [\"a\", \"b\", \"a\", \"b\"], \"B\": [1, 2, 3, 4], \"C\": [10, 11, 12, 13]})\n",
        "\n",
        "xf.where(xf[\"B\"] > 2)\n",
        ""
      ],
      "execution_count": 38,
      "outputs": [
        {
          "output_type": "execute_result",
          "data": {
            "text/plain": "  index  A      B    C\n-------  ---  ---  ---\n      0  a      3   12\n      1  b      4   13\ndtype: Struct([Field('A', string), Field('B', int64), Field('C', int64)]), count: 2, null_count: 0"
          },
          "metadata": {
            "bento_obj_id": "139909877122912"
          },
          "execution_count": 38
        }
      ]
    },
    {
      "cell_type": "markdown",
      "metadata": {
        "originalKey": "471bb928-5fce-42e5-9e56-43ed851120c7"
      },
      "source": [
        "Note that in `xf.where` the predicate `xf['B']>2` refers to self, i.e. `xf`. To access self in an expression TorchArrow introduces the special name `me`. That is, we can also write:\n",
        ""
      ]
    },
    {
      "cell_type": "code",
      "metadata": {
        "originalKey": "596257de-ba4f-4e36-92e7-7d683e713952",
        "collapsed": false,
        "requestMsgId": "ef69f335-a968-49ed-a7e3-13b29228ea83",
        "executionStartTime": 1633923936338,
        "executionStopTime": 1633923936348
      },
      "source": [
        "from torcharrow import me\n",
        "\n",
        "\n",
        "xf.where(me[\"B\"] > 2)\n",
        ""
      ],
      "execution_count": 39,
      "outputs": [
        {
          "output_type": "execute_result",
          "data": {
            "text/plain": "  index  A      B    C\n-------  ---  ---  ---\n      0  a      3   12\n      1  b      4   13\ndtype: Struct([Field('A', string), Field('B', int64), Field('C', int64)]), count: 2, null_count: 0"
          },
          "metadata": {
            "bento_obj_id": "139909877122624"
          },
          "execution_count": 39
        }
      ]
    },
    {
      "cell_type": "markdown",
      "metadata": {
        "originalKey": "f2968723-7317-4cf0-a989-e39ce7140081"
      },
      "source": [
        "### Select\n",
        "\n",
        "Select is SQL's standard way to define a new set of columns. We use *positional args to keep columns and kwargs to give new bindings. Here is a typical example that keeps all of xf's columns but adds column 'D').\n",
        ""
      ]
    },
    {
      "cell_type": "code",
      "metadata": {
        "originalKey": "3c7cde88-943f-4095-b131-366dfe17a995",
        "code_folding": [],
        "hidden_ranges": [],
        "collapsed": false,
        "requestMsgId": "07e2d8db-9d9d-4531-8c72-8fa66cad6b67",
        "executionStartTime": 1633923936412,
        "executionStopTime": 1633923936421
      },
      "source": [
        "xf.select(*xf.columns, D=me[\"B\"] + me[\"C\"])\n",
        ""
      ],
      "execution_count": 40,
      "outputs": [
        {
          "output_type": "execute_result",
          "data": {
            "text/plain": "  index  A      B    C    D\n-------  ---  ---  ---  ---\n      0  a      1   10   11\n      1  b      2   11   13\n      2  a      3   12   15\n      3  b      4   13   17\ndtype: Struct([Field('A', string), Field('B', int64), Field('C', int64), Field('D', int64)]), count: 4, null_count: 0"
          },
          "metadata": {
            "bento_obj_id": "139909877158480"
          },
          "execution_count": 40
        }
      ]
    },
    {
      "cell_type": "markdown",
      "metadata": {
        "originalKey": "771a9f74-df45-4f1c-bd34-6a8aab267c7a"
      },
      "source": [
        "The short form of `*xf.columns` is '\\*', so `xf.select('*', D=me['B']+me['C'])` does the same."
      ]
    },
    {
      "cell_type": "markdown",
      "metadata": {
        "originalKey": "aa9d95da-8c7b-49a9-afce-0e7b5519b01a",
        "showInput": false,
        "code_folding": [],
        "hidden_ranges": []
      },
      "source": [
        "### Grouping\n",
        "\n",
        "Like Pandas, TorchArrow supports the Split-Apply-Combine groupby paradigm. Let's see a couple of examples: "
      ]
    },
    {
      "cell_type": "code",
      "metadata": {
        "originalKey": "f3dccc11-f7c8-45db-bd11-470408a429fb",
        "collapsed": false,
        "requestMsgId": "dec1e642-e527-43dc-bab6-bdb9737030b1",
        "executionStartTime": 1633923936432,
        "executionStopTime": 1633923936444
      },
      "source": [
        "df = ta.DataFrame({\"A\": [\"a\", \"b\", \"a\", \"b\"], \"B\": [1, 2, 3, 4]})\n",
        "\n",
        "# group by A\n",
        "grouped = df.groupby([\"A\"])\n",
        "\n",
        "# apply sum on each of B's grouped column to create a new column\n",
        "grouped_sum = grouped[\"B\"].sum()\n",
        "\n",
        "# combine a new dataframe from old and new columns\n",
        "res = ta.DataFrame()\n",
        "res[\"A\"] = grouped[\"A\"]\n",
        "res[\"B.sum\"] = grouped_sum\n",
        "\n",
        "res\n",
        ""
      ],
      "execution_count": 41,
      "outputs": [
        {
          "output_type": "execute_result",
          "data": {
            "text/plain": "  index  A      B.sum\n-------  ---  -------\n      0  a          4\n      1  b          6\ndtype: Struct([Field('A', string), Field('B.sum', int64)]), count: 2, null_count: 0"
          },
          "metadata": {
            "bento_obj_id": "139909877203440"
          },
          "execution_count": 41
        }
      ]
    },
    {
      "cell_type": "markdown",
      "metadata": {
        "originalKey": "96a6ae2e-98f3-4030-b1cd-804950e26d63"
      },
      "source": [
        "The same can be written as a one liner:"
      ]
    },
    {
      "cell_type": "code",
      "metadata": {
        "originalKey": "726aa158-c9bd-4808-b0c4-d572ae4fb4b2",
        "collapsed": false,
        "requestMsgId": "8405ad03-e0ed-4996-b12e-f76c67de849b",
        "executionStartTime": 1633923936456,
        "executionStopTime": 1633923936468
      },
      "source": [
        "df.groupby([\"A\"]).sum()\n",
        ""
      ],
      "execution_count": 42,
      "outputs": [
        {
          "output_type": "execute_result",
          "data": {
            "text/plain": "  index  A      B.sum\n-------  ---  -------\n      0  a          4\n      1  b          6\ndtype: Struct([Field('A', string), Field('B.sum', int64)]), count: 2, null_count: 0"
          },
          "metadata": {
            "bento_obj_id": "139909877161408"
          },
          "execution_count": 42
        }
      ]
    },
    {
      "cell_type": "markdown",
      "metadata": {
        "originalKey": "11e74c14-12ff-408a-9ce8-654fb93e6295"
      },
      "source": [
        "Of course, you can group by more than one column, e.g. `df.groupby(['A','B'])`."
      ]
    },
    {
      "cell_type": "markdown",
      "metadata": {
        "originalKey": "e5884012-8b99-4446-abd3-70b8050c5943"
      },
      "source": [
        "If you wanted to apply a whole set of functions on different parts of the dataframe use groupby followed by select on grouped data. (TorchArrow also supports Pandas `agg` and `aggregate` function, which are not sampled here.)"
      ]
    },
    {
      "cell_type": "code",
      "metadata": {
        "originalKey": "54734805-4097-463b-b33c-a0e970c65563",
        "code_folding": [],
        "hidden_ranges": [],
        "collapsed": false,
        "requestMsgId": "61047cf9-2c13-4e69-9b40-6d8cc023b55a",
        "executionStartTime": 1633923936479,
        "executionStopTime": 1633923936490
      },
      "source": [
        "df = ta.DataFrame({\n",
        "    \"A\": [\"a\", \"b\", \"a\", \"b\"], \n",
        "    \"B\": [1, 2, 3, 4], \n",
        "    \"C\": [10, 11, 12, 13]})\n",
        "df.groupby([\"A\"]).select(b_sum=me[\"B\"].sum(), c_count=me[\"C\"].count())\n",
        ""
      ],
      "execution_count": 43,
      "outputs": [
        {
          "output_type": "execute_result",
          "data": {
            "text/plain": "  index  A      b_sum    c_count\n-------  ---  -------  ---------\n      0  a          4          2\n      1  b          6          2\ndtype: Struct([Field('A', string), Field('b_sum', int64), Field('c_count', int64)]), count: 2, null_count: 0"
          },
          "metadata": {
            "bento_obj_id": "139909876744304"
          },
          "execution_count": 43
        }
      ]
    },
    {
      "cell_type": "markdown",
      "metadata": {
        "originalKey": "011e5d49-57fc-4288-9eaa-d746346e8edb"
      },
      "source": [
        "All aggregation functions (`min`, `max`, `any`, `all`, `sum`, `prod`, `count`, etc)  are available. If none of these work one can use `reduce`. \n",
        "\n",
        "Finally to see what data groups contain iterate over them:"
      ]
    },
    {
      "cell_type": "code",
      "metadata": {
        "originalKey": "474082a2-c944-43cd-a6d5-a07313254b97",
        "collapsed": false,
        "requestMsgId": "a993b82b-8517-4795-95f2-f33324a69059",
        "executionStartTime": 1633923936502,
        "executionStopTime": 1633923936562
      },
      "source": [
        "for g, df in grouped:\n",
        "    print(g)\n",
        "    print(\"  \", df)\n",
        ""
      ],
      "execution_count": 44,
      "outputs": [
        {
          "output_type": "stream",
          "name": "stdout",
          "text": [
            "('a',)\n   self._fromdata({'B':Column([1, 3], id = c180), id = c181})\n('b',)\n   self._fromdata({'B':Column([2, 4], id = c182), id = c183})\n"
          ]
        }
      ]
    },
    {
      "cell_type": "markdown",
      "metadata": {
        "originalKey": "ac26087a-900e-496e-aa4e-ff050d0b2640",
        "showInput": false,
        "code_folding": [],
        "hidden_ranges": []
      },
      "source": [
        "### Join and Tranpose\n",
        "\n",
        "Coming soon!\n",
        ""
      ]
    },
    {
      "cell_type": "markdown",
      "metadata": {
        "originalKey": "ca0f70e5-efb8-43cc-b70e-9d6e4187c98d",
        "showInput": false,
        "code_folding": [],
        "hidden_ranges": []
      },
      "source": [
        "## Functional tools:  map, filter, reduce\n",
        "\n",
        "Column and dataframe pipelines support map/reduce style programming as well. We first explore column oriented operations.\n",
        "\n",
        "###  Map and its variations\n",
        "\n",
        "`map` maps values of a column according to input correspondence. The input correspondence can be given as a mapping or as a (user-defined-) function (UDF). If the mapping is a dict, then non mapped values become null.\n",
        "\n",
        "\n",
        ""
      ]
    },
    {
      "cell_type": "code",
      "metadata": {
        "originalKey": "4e209a20-1d22-408a-9912-bfe7c16194fc",
        "collapsed": false,
        "requestMsgId": "14859443-a62e-4a6c-b719-960b00c4013f",
        "executionStartTime": 1633923936573,
        "executionStopTime": 1633923936584
      },
      "source": [
        "ta.Column([1, 2, None, 4]).map({1: 111})\n",
        ""
      ],
      "execution_count": 45,
      "outputs": [
        {
          "output_type": "execute_result",
          "data": {
            "text/plain": "0  111\n1  None\n2  None\n3  None\ndtype: Int64(nullable=True), length: 4, null_count: 3"
          },
          "metadata": {
            "bento_obj_id": "139909876746608"
          },
          "execution_count": 45
        }
      ]
    },
    {
      "cell_type": "markdown",
      "metadata": {
        "originalKey": "f6f7f92a-5a55-4278-a148-a9e67c24811c"
      },
      "source": [
        "If the mapping is a defaultdict, all values will be mapped as described by the default dict."
      ]
    },
    {
      "cell_type": "code",
      "metadata": {
        "originalKey": "4eb3a3e9-1931-4cb6-940c-7f35308f4d31",
        "code_folding": [],
        "hidden_ranges": [],
        "collapsed": false,
        "requestMsgId": "815a614d-2e1b-4db3-8b5e-bd301cd9e2a7",
        "executionStartTime": 1633923936597,
        "executionStopTime": 1633923936608
      },
      "source": [
        "from collections import defaultdict\n",
        "ta.Column([1, 2, None, 4]).map(defaultdict(lambda: -1, {1: 111}))\n",
        ""
      ],
      "execution_count": 46,
      "outputs": [
        {
          "output_type": "execute_result",
          "data": {
            "text/plain": "0  111\n1   -1\n2   -1\n3   -1\ndtype: Int64(nullable=True), length: 4, null_count: 0"
          },
          "metadata": {
            "bento_obj_id": "139909876747088"
          },
          "execution_count": 46
        }
      ]
    },
    {
      "cell_type": "markdown",
      "metadata": {
        "originalKey": "2121d910-3f30-43d7-9a34-66cf429ca7ee",
        "showInput": false,
        "code_folding": [],
        "hidden_ranges": []
      },
      "source": [
        "**Handling null.** If the mapping is a function, then it will be applied on all values (including null), unless na_action is `'ignore'`, in which case, null values are passed through."
      ]
    },
    {
      "cell_type": "code",
      "metadata": {
        "originalKey": "6240d2f6-4f99-4abc-84a3-e6368de73241",
        "code_folding": [],
        "hidden_ranges": [],
        "collapsed": false,
        "requestMsgId": "8a2dc8a5-871c-4621-95cf-660e8e2ad9e3",
        "executionStartTime": 1633923936620,
        "executionStopTime": 1633923936630
      },
      "source": [
        "def add_ten(num):\n",
        "    return num + 10\n",
        "\n",
        "ta.Column([1, 2, None, 4]).map(add_ten, na_action=\"ignore\")\n",
        ""
      ],
      "execution_count": 47,
      "outputs": [
        {
          "output_type": "execute_result",
          "data": {
            "text/plain": "0  11\n1  12\n2  None\n3  14\ndtype: Int64(nullable=True), length: 4, null_count: 1"
          },
          "metadata": {
            "bento_obj_id": "139909876745888"
          },
          "execution_count": 47
        }
      ]
    },
    {
      "cell_type": "markdown",
      "metadata": {
        "originalKey": "ff6cada9-bf7f-46aa-ae08-0af737fdf751",
        "showInput": false,
        "code_folding": [],
        "hidden_ranges": []
      },
      "source": [
        "Note that `.map(add_ten, na_action=None)` would fail with a type error since `addten` is not defined for `None`/null. So if we wanted to pass null to `add_ten` we would have to prepare for it, maybe like so:"
      ]
    },
    {
      "cell_type": "code",
      "metadata": {
        "originalKey": "03a83f8d-2deb-4f46-ad66-c3c9fa4f288c",
        "collapsed": false,
        "requestMsgId": "3d214a6d-46c5-40dd-8968-bb70848053c7",
        "executionStartTime": 1633923936641,
        "executionStopTime": 1633923936650
      },
      "source": [
        "def add_ten_or_0(num):\n",
        "    return 0 if num is None else num + 10\n",
        "\n",
        "\n",
        "ta.Column([1, 2, None, 4]).map(add_ten_or_0, na_action=None)\n",
        ""
      ],
      "execution_count": 48,
      "outputs": [
        {
          "output_type": "execute_result",
          "data": {
            "text/plain": "0  11\n1  12\n2   0\n3  14\ndtype: Int64(nullable=True), length: 4, null_count: 0"
          },
          "metadata": {
            "bento_obj_id": "139909876747232"
          },
          "execution_count": 48
        }
      ]
    },
    {
      "cell_type": "markdown",
      "metadata": {
        "originalKey": "66a7b78c-a2d7-4158-a148-ac1a3d406e31",
        "showInput": false
      },
      "source": [
        "**Mapping to different types.** If `map` returns a column type that is different from the input column type, then `map` has to specify the returned column type. "
      ]
    },
    {
      "cell_type": "code",
      "metadata": {
        "originalKey": "d465dc4d-5194-4792-bd52-e608031f2d36",
        "collapsed": false,
        "requestMsgId": "5f3e689d-8e96-42a7-b62e-e12d1121dbbd",
        "executionStartTime": 1633923936711,
        "executionStopTime": 1633923936722
      },
      "source": [
        "ta.Column([1,2,3,4]).map(str, dtype=dt.string)"
      ],
      "execution_count": 49,
      "outputs": [
        {
          "output_type": "execute_result",
          "data": {
            "text/plain": "0  '1'\n1  '2'\n2  '3'\n3  '4'\ndtype: string, length: 4, null_count: 0"
          },
          "metadata": {
            "bento_obj_id": "139909877188928"
          },
          "execution_count": 49
        }
      ]
    },
    {
      "cell_type": "markdown",
      "metadata": {
        "originalKey": "e5a63fe9-7ad2-4445-bba7-6c044cac2c00",
        "showInput": false,
        "customInput": null,
        "code_folding": [],
        "hidden_ranges": []
      },
      "source": [
        "Instead of specifying `dtype` argument, you can also rely on type annotations (both Python annotations and `dtypes` are supported):"
      ]
    },
    {
      "cell_type": "code",
      "metadata": {
        "originalKey": "0dc15824-2e42-425f-972d-44c7880d264f",
        "showInput": true,
        "customInput": null,
        "code_folding": [],
        "hidden_ranges": [],
        "collapsed": false,
        "requestMsgId": "cbe4147c-8b64-4efb-b040-82094262f9d3",
        "executionStartTime": 1633923936734,
        "executionStopTime": 1633923936753
      },
      "source": [
        "from typing import Optional\n",
        "\n",
        "\n",
        "def str_only_even(x) -> Optional[str]:\n",
        "    if x % 2 == 0:\n",
        "        return str(x)\n",
        "    return None\n",
        "\n",
        "\n",
        "ta.Column([1, 2, 3, 4]).map(str_only_even)  # dt.string(nullable=True) is inferred\n",
        ""
      ],
      "execution_count": 50,
      "outputs": [
        {
          "output_type": "execute_result",
          "data": {
            "text/plain": "0  None\n1  '2'\n2  None\n3  '4'\ndtype: String(nullable=True), length: 4, null_count: 2"
          },
          "metadata": {
            "bento_obj_id": "139909877186624"
          },
          "execution_count": 50
        }
      ]
    },
    {
      "cell_type": "markdown",
      "metadata": {
        "originalKey": "35b0206b-1f38-4ef0-bd15-9644298e302f"
      },
      "source": [
        "**Map over Dataframes** Of course, `map` works over Dataframes, too. In this case the callable gets the whole row as a tuple. "
      ]
    },
    {
      "cell_type": "code",
      "metadata": {
        "originalKey": "2bbc619c-37cb-4dab-9c24-31e673d3d66a",
        "collapsed": false,
        "requestMsgId": "c55abe56-8384-42f3-a026-a5903c049ab9",
        "executionStartTime": 1633923936757,
        "executionStopTime": 1633923936769
      },
      "source": [
        "def add_unary(tup):\n",
        "    return tup[0] + tup[1]\n",
        "\n",
        "\n",
        "ta.DataFrame({\"a\": [1, 2, 3], \"b\": [1, 2, 3]}).map(add_unary, dtype=dt.int64)\n",
        ""
      ],
      "execution_count": 51,
      "outputs": [
        {
          "output_type": "execute_result",
          "data": {
            "text/plain": "0  2\n1  4\n2  6\ndtype: int64, length: 3, null_count: 0"
          },
          "metadata": {
            "bento_obj_id": "139909876875376"
          },
          "execution_count": 51
        }
      ]
    },
    {
      "cell_type": "markdown",
      "metadata": {
        "originalKey": "c4e03959-bd59-463d-b215-51cb492cb7dd",
        "showInput": false,
        "code_folding": [],
        "hidden_ranges": []
      },
      "source": [
        "**Multi-parameter functions**. So far all our functions were unary functions. But `map` can be used for n-ary functions, too: simply specify the set of `columns` you want to pass to the nary function. \n",
        ""
      ]
    },
    {
      "cell_type": "code",
      "metadata": {
        "originalKey": "8a6550ba-83e5-4b53-91aa-304cdad5c13b",
        "collapsed": false,
        "requestMsgId": "a32776fa-4978-4faa-84f9-fd7988e7163c",
        "executionStartTime": 1633923936860,
        "executionStopTime": 1633923936870
      },
      "source": [
        "def add_binary(a, b):\n",
        "    return a + b\n",
        "\n",
        "\n",
        "ta.DataFrame({\"a\": [1, 2, 3], \"b\": [\"a\", \"b\", \"c\"], \"c\": [1, 2, 3]}).map(\n",
        "    add_binary, columns=[\"a\", \"c\"], dtype=dt.int64\n",
        ")\n",
        ""
      ],
      "execution_count": 52,
      "outputs": [
        {
          "output_type": "execute_result",
          "data": {
            "text/plain": "0  2\n1  4\n2  6\ndtype: int64, length: 3, null_count: 0"
          },
          "metadata": {
            "bento_obj_id": "139909876879024"
          },
          "execution_count": 52
        }
      ]
    },
    {
      "cell_type": "markdown",
      "metadata": {
        "originalKey": "60a52680-9519-4e48-b03a-60d076356cfe",
        "showInput": false,
        "code_folding": [],
        "hidden_ranges": []
      },
      "source": [
        "**Multi-return functions.** Functions that return more than one column can be specified by returning a dataframe  (aka as struct column); providing the  return type is mandatory."
      ]
    },
    {
      "cell_type": "code",
      "metadata": {
        "originalKey": "b3833f37-3531-4105-b654-5cd6ccea9157",
        "collapsed": false,
        "requestMsgId": "5f0f51c6-fe76-4741-bbc2-0326d23d0593",
        "executionStartTime": 1633923936882,
        "executionStopTime": 1633923936896
      },
      "source": [
        "ta.DataFrame({\"a\": [17, 29, 30], \"b\": [3, 5, 11]}).map(\n",
        "    divmod,\n",
        "    columns=[\"a\", \"b\"],\n",
        "    dtype=dt.Struct([dt.Field(\"quotient\", dt.int64), dt.Field(\"remainder\", dt.int64)]),\n",
        ")\n",
        ""
      ],
      "execution_count": 53,
      "outputs": [
        {
          "output_type": "execute_result",
          "data": {
            "text/plain": "  index    quotient    remainder\n-------  ----------  -----------\n      0           5            2\n      1           5            4\n      2           2            8\ndtype: Struct([Field('quotient', int64), Field('remainder', int64)]), count: 3, null_count: 0"
          },
          "metadata": {
            "bento_obj_id": "139909876986112"
          },
          "execution_count": 53
        }
      ]
    },
    {
      "cell_type": "markdown",
      "metadata": {
        "originalKey": "180eed76-dcb2-4b68-8776-7a1551693631",
        "showInput": false,
        "code_folding": [],
        "hidden_ranges": []
      },
      "source": [
        "**Functions with state**. Functions need sometimes additional precomputed state. We capture the state in a (data)class and use a method as a delegate:\n",
        " "
      ]
    },
    {
      "cell_type": "code",
      "metadata": {
        "originalKey": "25447228-dad1-40de-b839-6a537d98c898",
        "collapsed": false,
        "requestMsgId": "1e5e9997-c940-4aa0-9a5c-0017d53591c8",
        "executionStartTime": 1633923936909,
        "executionStopTime": 1633923936920
      },
      "source": [
        "def fib(n):\n",
        "    if n == 0:\n",
        "        return 0\n",
        "    elif n == 1 or n == 2:\n",
        "        return 1\n",
        "    else:\n",
        "        return fib(n - 1) + fib(n - 2)\n",
        "\n",
        "\n",
        "from dataclasses import dataclass\n",
        "\n",
        "\n",
        "@dataclass\n",
        "class State:\n",
        "    state: int\n",
        "\n",
        "    def __post_init__(self):\n",
        "        self.state = fib(self.state)\n",
        "\n",
        "    def add_fib(self, x):\n",
        "        return self.state + x\n",
        "\n",
        "\n",
        "m = State(10)\n",
        "ta.Column([1, 2, 3]).map(m.add_fib)\n",
        ""
      ],
      "execution_count": 54,
      "outputs": [
        {
          "output_type": "execute_result",
          "data": {
            "text/plain": "0  56\n1  57\n2  58\ndtype: int64, length: 3, null_count: 0"
          },
          "metadata": {
            "bento_obj_id": "139909876772480"
          },
          "execution_count": 54
        }
      ]
    },
    {
      "cell_type": "markdown",
      "metadata": {
        "originalKey": "d79b6952-b6b2-4be3-9f9a-a6cd1fa21c69"
      },
      "source": [
        "TorchArrow requires that only global functions or methods on class instances can be used as user defined functions. Lambdas, which can can capture arbitrary state and are not inspectable, are not supported. "
      ]
    },
    {
      "cell_type": "markdown",
      "metadata": {
        "originalKey": "5d2fe352-b7a5-4f3c-95d2-cb7ede391117",
        "showInput": false,
        "code_folding": [],
        "hidden_ranges": []
      },
      "source": [
        "### Filter\n",
        "\n",
        "`filter` takes a predicate and returns all those rows for which the predicate holds: "
      ]
    },
    {
      "cell_type": "code",
      "metadata": {
        "originalKey": "5f4992c1-5750-4bbb-93cf-4d8af57a9f24",
        "collapsed": false,
        "requestMsgId": "f7ca1ea0-6dff-4e7f-a0da-ae7bd0290d1b",
        "executionStartTime": 1633923936935,
        "executionStopTime": 1633923937003,
        "code_folding": [],
        "hidden_ranges": []
      },
      "source": [
        "ta.Column([1, 2, 3, 4]).filter(lambda x: x % 2 == 1)\n",
        ""
      ],
      "execution_count": 55,
      "outputs": [
        {
          "output_type": "execute_result",
          "data": {
            "text/plain": "0  1\n1  3\ndtype: int64, length: 2, null_count: 0"
          },
          "metadata": {
            "bento_obj_id": "139909876875856"
          },
          "execution_count": 55
        }
      ]
    },
    {
      "cell_type": "markdown",
      "metadata": {
        "originalKey": "be522e4c-1869-4b78-8ff4-5ebdce5a19a1",
        "showInput": false,
        "customInput": null,
        "code_folding": [],
        "hidden_ranges": []
      },
      "source": [
        "Instead of the predicate you can pass an iterable of boolean of the same length as the column: "
      ]
    },
    {
      "cell_type": "code",
      "metadata": {
        "originalKey": "14fa8c22-28ab-4426-8dd2-4c7c512a1774",
        "showInput": true,
        "customInput": null,
        "code_folding": [],
        "hidden_ranges": [],
        "collapsed": false,
        "requestMsgId": "3ab1d739-c0f1-4222-9bfe-49963141ed70",
        "executionStartTime": 1633923937007,
        "executionStopTime": 1633923937018
      },
      "source": [
        "ta.Column([1, 2, 3, 4]).filter([True, False, True, False])\n",
        ""
      ],
      "execution_count": 56,
      "outputs": [
        {
          "output_type": "execute_result",
          "data": {
            "text/plain": "0  1\n1  3\ndtype: int64, length: 2, null_count: 0"
          },
          "metadata": {
            "bento_obj_id": "139909876769120"
          },
          "execution_count": 56
        }
      ]
    },
    {
      "cell_type": "markdown",
      "metadata": {
        "originalKey": "cb3614bb-7f54-4e30-ac18-11eaaba20d4c"
      },
      "source": [
        "If the predicate is an n-ary function, use the  `columns` argument as we have seen for `map`.  "
      ]
    },
    {
      "cell_type": "markdown",
      "metadata": {
        "originalKey": "9bd0607b-5e96-4e00-8244-37cebf408707"
      },
      "source": [
        "### Flatmap\n",
        "\n",
        "`flatmap` combines `map` with `filter`. Each callable can return a list of elements. If that list is empty, flatmap filters, if the returned list is a singleton, flatmap acts like map, if it returns several elements it 'explodes' the input. Here is an example: "
      ]
    },
    {
      "cell_type": "code",
      "metadata": {
        "originalKey": "dd033013-f74d-4e7f-b5f6-268045e3e2ae",
        "collapsed": false,
        "requestMsgId": "c26c31ac-16fc-4ac1-98ee-71fa0db767e1",
        "executionStartTime": 1633923937031,
        "executionStopTime": 1633923937042,
        "code_folding": [],
        "hidden_ranges": []
      },
      "source": [
        "def selfish(words):\n",
        "    return [words, words] if len(words) >= 1 and words[0] == \"I\" else []\n",
        "\n",
        "\n",
        "sf.flatmap(selfish)\n",
        ""
      ],
      "execution_count": 57,
      "outputs": [
        {
          "output_type": "execute_result",
          "data": {
            "text/plain": "0  ['I', 'am', 'fine', 'and', 'you']\n1  ['I', 'am', 'fine', 'and', 'you']\n2  ['I', 'am', 'fine', 'too']\n3  ['I', 'am', 'fine', 'too']\ndtype: List(string), length: 4, null_count: 0"
          },
          "metadata": {
            "bento_obj_id": "139909876769600"
          },
          "execution_count": 57
        }
      ]
    },
    {
      "cell_type": "markdown",
      "metadata": {
        "originalKey": "6ba7e390-d5f2-4034-916a-7abf3fb3485f"
      },
      "source": [
        "`flatmap` has all the flexibility of `map`, i.e it can take the `ignore`, `dtype` and `column` arguments."
      ]
    },
    {
      "cell_type": "markdown",
      "metadata": {
        "originalKey": "2c121166-1605-405c-9f1d-a58d43db3691"
      },
      "source": [
        "### Reduce\n",
        "`reduce` is just like Python's `reduce`. Here we compute the product of a column."
      ]
    },
    {
      "cell_type": "code",
      "metadata": {
        "originalKey": "51106561-5cae-4981-80fa-576323a2cfc1",
        "collapsed": false,
        "requestMsgId": "9620713d-e2b1-43af-a3ea-d593db423a8d",
        "executionStartTime": 1633923937055,
        "executionStopTime": 1633923937075
      },
      "source": [
        "import operator\n",
        "\n",
        "\n",
        "ta.Column([1, 2, 3, 4]).reduce(operator.mul)\n",
        ""
      ],
      "execution_count": 58,
      "outputs": [
        {
          "output_type": "execute_result",
          "data": {
            "text/plain": "24"
          },
          "metadata": {
            "bento_obj_id": "139910130642320"
          },
          "execution_count": 58
        }
      ]
    },
    {
      "cell_type": "markdown",
      "metadata": {
        "originalKey": "5c36b14f-b9ac-4480-83ea-ba462455cf72",
        "showInput": false,
        "customInput": null,
        "code_folding": [],
        "hidden_ranges": []
      },
      "source": [
        "## Batch Transform\n",
        ""
      ]
    },
    {
      "cell_type": "markdown",
      "metadata": {
        "originalKey": "aed1671c-b503-4b22-9683-4e64d7cca2eb",
        "showInput": false,
        "customInput": null,
        "code_folding": [],
        "hidden_ranges": []
      },
      "source": [
        "Batch `transform` is simliar to `map`, except the functions takes batch input/output (represented by a Python list, PyTorch tensors, etc)."
      ]
    },
    {
      "cell_type": "code",
      "metadata": {
        "originalKey": "d982927b-9bc2-4153-8c0f-6d9f6787c63a",
        "showInput": true,
        "customInput": null,
        "code_folding": [],
        "hidden_ranges": [],
        "collapsed": false,
        "requestMsgId": "ea3cfc89-47fe-4f62-bfbf-efa3803bfad5",
        "executionStartTime": 1633923937082,
        "executionStopTime": 1633923937093
      },
      "source": [
        "from typing import List\n",
        "\n",
        "\n",
        "def multiple_ten(val: List[int]) -> List[int]:\n",
        "    return [x * 10 for x in val]\n",
        "\n",
        "\n",
        "ta.Column([1, 2, 3, 4]).transform(multiple_ten, format=\"python\")\n",
        ""
      ],
      "execution_count": 59,
      "outputs": [
        {
          "output_type": "execute_result",
          "data": {
            "text/plain": "0  10\n1  20\n2  30\n3  40\ndtype: int64, length: 4, null_count: 0"
          },
          "metadata": {
            "bento_obj_id": "139909876987552"
          },
          "execution_count": 59
        }
      ]
    },
    {
      "cell_type": "code",
      "metadata": {
        "originalKey": "e7a2d8bf-7fd5-472c-8a97-6d8c9a60b71b",
        "code_folding": [],
        "hidden_ranges": [],
        "collapsed": false,
        "requestMsgId": "b67d2011-deae-4c7f-af67-1c06c7edd3de",
        "executionStartTime": 1633923937143,
        "executionStopTime": 1633923937163
      },
      "source": [
        "\"End of tutorial\"\n",
        ""
      ],
      "execution_count": 60,
      "outputs": [
        {
          "output_type": "execute_result",
          "data": {
            "text/plain": "'End of tutorial'"
          },
          "metadata": {
            "bento_obj_id": "139909876782320"
          },
          "execution_count": 60
        }
      ]
    }
  ]
}
