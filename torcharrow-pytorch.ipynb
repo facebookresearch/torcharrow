{
 "cells": [
  {
   "cell_type": "code",
   "execution_count": 1,
   "id": "theoretical-tumor",
   "metadata": {},
   "outputs": [],
   "source": [
    "import torcharrow as ta\n",
    "import torcharrow.dtypes as dt\n",
    "\n",
    "import torch\n",
    "import black\n",
    "\n",
    "def pp(s):\n",
    "    \"\"\"Beautiful multi-line formatting\"\"\"\n",
    "    print(black.format_str(repr(s), mode=black.Mode()))"
   ]
  },
  {
   "cell_type": "code",
   "execution_count": 2,
   "id": "egyptian-slave",
   "metadata": {},
   "outputs": [
    {
     "output_type": "execute_result",
     "data": {
      "text/plain": [
       "  index    ints    ints_with_null  list_of_ints    list_of_ints_with_null    id_score_list         str    list_of_str    multi_label_map\n",
       "-------  ------  ----------------  --------------  ------------------------  --------------------  -----  -------------  -----------------------\n",
       "      0       2                 1  [1, 2]          [1, 2]                    [(1, 1.5), (2, 2.5)]  a      ['a', 'aa']    {'click': 1, 'conv': 0}\n",
       "      1       3                    [3, 4]          [3, None]                 []                    b      ['b']          {'click': 0, 'conv': 0}\n",
       "      2       5                 2  [5, 6]          [None, 6]                 [(3, 3.5)]            c      []             {}\n",
       "      3       7                    [7, 8]          [7, 8]                    [(4, 4.5), (5, 5.5)]  d      ['d', 'dd']    {'conv': 1}\n",
       "dtype: Struct([Field('ints', int64), Field('ints_with_null', Int64(nullable=True)), Field('list_of_ints', List(int64)), Field('list_of_ints_with_null', List(Int64(nullable=True))), Field('id_score_list', List(Struct([Field('id', int64), Field('score', float32)]))), Field('str', string), Field('list_of_str', List(string)), Field('multi_label_map', Map(string, int64))]), count: 4, null_count: 0"
      ]
     },
     "metadata": {},
     "execution_count": 2
    }
   ],
   "source": [
    "df = ta.DataFrame({\n",
    "    \"ints\": [2, 3, 5, 7],\n",
    "    \"ints_with_null\": [1, None, 2, None],\n",
    "    \"list_of_ints\": [[1, 2], [3, 4], [5, 6], [7, 8]],\n",
    "    \"list_of_ints_with_null\": [[1, 2], [3, None], [None, 6], [7, 8]],\n",
    "    \"id_score_list\": ta.Column(\n",
    "        [[(1, 1.5), (2, 2.5)], [], [(3, 3.5)], [(4, 4.5), (5, 5.5)]],\n",
    "        dtype=dt.List(dt.Struct([dt.Field('id', dt.int64), dt.Field('score', dt.float32)]))\n",
    "    ),\n",
    "    \"str\": [\"a\", \"b\", \"c\", \"d\"],\n",
    "    \"list_of_str\": ta.Column([\n",
    "            [\"a\", \"aa\"], \n",
    "            [\"b\"], \n",
    "            [], \n",
    "            [\"d\", \"dd\"]\n",
    "        ], \n",
    "        dtype= dt.List(dt.string)),\n",
    "    \"multi_label_map\": ta.Column([\n",
    "            {\"click\": 1, \"conv\": 0}, \n",
    "            {\"click\": 0, \"conv\": 0}, \n",
    "            {}, \n",
    "            {\"conv\": 1}\n",
    "        ], \n",
    "        dtype= dt.Map(dt.string, dt.int64))\n",
    "    })\n",
    "\n",
    "df"
   ]
  },
  {
   "cell_type": "markdown",
   "id": "animal-material",
   "metadata": {},
   "source": [
    "## `to_python()` just recovers the original data\n",
    "\n",
    "After implementing it I realized that it's almost the same as `list(df)` :)\n",
    "\n",
    "The only difference is that it returns named tuples instead of plain tuples and OrderedDict instead of a regular one. Maybe we should collapse them?"
   ]
  },
  {
   "cell_type": "code",
   "execution_count": 3,
   "id": "gothic-calculation",
   "metadata": {},
   "outputs": [
    {
     "output_type": "stream",
     "name": "stdout",
     "text": [
      "[\n    (\n        2,\n        1,\n        [1, 2],\n        [1, 2],\n        [(1, 1.5), (2, 2.5)],\n        \"a\",\n        [\"a\", \"aa\"],\n        {\"click\": 1, \"conv\": 0},\n    ),\n    (3, None, [3, 4], [3, None], [], \"b\", [\"b\"], {\"click\": 0, \"conv\": 0}),\n    (5, 2, [5, 6], [None, 6], [(3, 3.5)], \"c\", [], {}),\n    (7, None, [7, 8], [7, 8], [(4, 4.5), (5, 5.5)], \"d\", [\"d\", \"dd\"], {\"conv\": 1}),\n]\n\n"
     ]
    }
   ],
   "source": [
    "pp(list(df))\n",
    "#pp(df.to_python()) -- WS accidentally deleted to_python..."
   ]
  },
  {
   "cell_type": "markdown",
   "id": "median-contamination",
   "metadata": {},
   "source": [
    "## `to_torch()` converts into a very simplified columnar storage using torch.Tensors\n",
    "\n",
    "Numerical columns just turn into tensors.\n",
    "\n",
    "Lists become PackedList type with offsets and values. Maps - PackedMaps."
   ]
  },
  {
   "cell_type": "code",
   "execution_count": 4,
   "id": "framed-platinum",
   "metadata": {},
   "outputs": [],
   "source": [
    "# pp(df[\"ints\"].to_torch())  -- WS accidentally deleted to_torch...\n",
    "# pp(df[\"list_of_ints\"].to_torch())\n",
    "# pp(df[\"id_score_list\"].to_torch())"
   ]
  },
  {
   "cell_type": "markdown",
   "id": "processed-sphere",
   "metadata": {},
   "source": [
    "For nullable columns we wrap the value into WithPresence.\n",
    "\n",
    "Those can be nested!"
   ]
  },
  {
   "cell_type": "code",
   "execution_count": 5,
   "id": "established-safety",
   "metadata": {},
   "outputs": [],
   "source": [
    "# pp(df[\"ints_with_null\"].to_torch()) -- WS accidentally deleted to_torch...\n",
    "# pp(df[\"list_of_ints_with_null\"].to_torch())"
   ]
  },
  {
   "cell_type": "markdown",
   "id": "suspended-collectible",
   "metadata": {},
   "source": [
    "Since PyTorch doesn't have string tensors, string columns get converted to `List[str]` in python.\n",
    "\n",
    "As a special rule, we also don't use PackedList for lists of strings (as it'd be awkward). This special case is also present in F6 today."
   ]
  },
  {
   "cell_type": "code",
   "execution_count": 6,
   "id": "bibliographic-namibia",
   "metadata": {},
   "outputs": [],
   "source": [
    "# pp(df[\"str\"].to_torch()) -- WS accidentally deleted to_torch...\n",
    "# pp(df[\"list_of_str\"].to_torch())"
   ]
  },
  {
   "cell_type": "markdown",
   "id": "satisfactory-reproduction",
   "metadata": {},
   "source": [
    "But we do use PackedMap for maps even if the keys are string (though no one probably would want it)"
   ]
  },
  {
   "cell_type": "code",
   "execution_count": 7,
   "id": "subsequent-exercise",
   "metadata": {},
   "outputs": [],
   "source": [
    "# pp(df[\"multi_label_map\"].to_torch()) -- WS accidentally deleted to_torch..."
   ]
  },
  {
   "cell_type": "markdown",
   "id": "bound-concert",
   "metadata": {},
   "source": [
    "You can convert the entire Dataframe at once!"
   ]
  },
  {
   "cell_type": "code",
   "execution_count": 8,
   "id": "resident-moral",
   "metadata": {},
   "outputs": [],
   "source": [
    "# pp(df.to_torch()) -- WS accidentally deleted to_torch..."
   ]
  },
  {
   "cell_type": "markdown",
   "id": "behind-biology",
   "metadata": {},
   "source": [
    "## to be continued...\n",
    "\n",
    "* specifying output type, so that we can mix output formats, e.g. convert some columns of the dataframe, but keep another as in python\n",
    "* reverse conversion from these simple structs to Dataframe\n",
    "* UDFs with automatic conversion back and forth\n",
    "* explore integration with `__torch_function__`"
   ]
  }
 ],
 "metadata": {
  "kernelspec": {
   "name": "python385jvsc74a57bd056f626f2aa31d1996176a2034a75bfff22e4b2d79ede5b92d2ea330b3279997c",
   "display_name": "Python 3.8.5 64-bit ('base': conda)"
  },
  "language_info": {
   "codemirror_mode": {
    "name": "ipython",
    "version": 3
   },
   "file_extension": ".py",
   "mimetype": "text/x-python",
   "name": "python",
   "nbconvert_exporter": "python",
   "pygments_lexer": "ipython3",
   "version": "3.8.5"
  }
 },
 "nbformat": 4,
 "nbformat_minor": 5
}
